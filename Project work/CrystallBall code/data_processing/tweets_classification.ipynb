{
 "cells": [
  {
   "cell_type": "code",
   "execution_count": 12,
   "outputs": [
    {
     "name": "stderr",
     "output_type": "stream",
     "text": [
      "[nltk_data] Downloading package stopwords to\n",
      "[nltk_data]     /Users/bharathkumar/nltk_data...\n",
      "[nltk_data]   Package stopwords is already up-to-date!\n"
     ]
    }
   ],
   "source": [
    "import nltk\n",
    "import random\n",
    "\n",
    "nltk.download('stopwords')\n",
    "\n",
    "import re\n",
    "import string\n",
    "from nltk.corpus import stopwords\n",
    "from nltk.stem import PorterStemmer\n",
    "from nltk.tokenize import TweetTokenizer\n",
    "import pandas as pd\n",
    "import numpy as np"
   ],
   "metadata": {
    "collapsed": false,
    "pycharm": {
     "name": "#%%\n"
    }
   }
  },
  {
   "cell_type": "code",
   "execution_count": 14,
   "outputs": [],
   "source": [
    "tweets = pd.read_csv(\"final_tweets_list.csv\")"
   ],
   "metadata": {
    "collapsed": false,
    "pycharm": {
     "name": "#%%\n"
    }
   }
  },
  {
   "cell_type": "code",
   "execution_count": 15,
   "outputs": [
    {
     "data": {
      "text/plain": "      Unnamed: 0      event_id  \\\n0              0      Georgia1   \n1              1      Georgia1   \n2              2      Georgia1   \n3              3      Georgia1   \n4              4      Georgia1   \n...          ...           ...   \n2235         179  Washington14   \n2236         180  Washington14   \n2237         181  Washington14   \n2238         182  Washington14   \n2239         183  Washington14   \n\n                                                 tweets  \n0     https://t.co/KwMLUjBum9\\n\\nThree jail guards i...  \n1     September Complaint: Voting machine testing co...  \n2     A man accused of fatally shooting another pers...  \n3     Oops…\\n\\nGA Tech’s defense has been okay, but ...  \n4     Scott Frost bragged about how his new O-Line c...  \n...                                                 ...  \n2235  @Madonna I make intercessions with Heaven for ...  \n2236  Remember when Eagles coach Nick Sirianni took ...  \n2237  @SovCam @juliegreen52722 @GloryBound_info It w...  \n2238  @NWSportsfan1992 @Softykjr These polls are sup...  \n2239           Dinah Washington - September In The Rain  \n\n[2240 rows x 3 columns]",
      "text/html": "<div>\n<style scoped>\n    .dataframe tbody tr th:only-of-type {\n        vertical-align: middle;\n    }\n\n    .dataframe tbody tr th {\n        vertical-align: top;\n    }\n\n    .dataframe thead th {\n        text-align: right;\n    }\n</style>\n<table border=\"1\" class=\"dataframe\">\n  <thead>\n    <tr style=\"text-align: right;\">\n      <th></th>\n      <th>Unnamed: 0</th>\n      <th>event_id</th>\n      <th>tweets</th>\n    </tr>\n  </thead>\n  <tbody>\n    <tr>\n      <th>0</th>\n      <td>0</td>\n      <td>Georgia1</td>\n      <td>https://t.co/KwMLUjBum9\\n\\nThree jail guards i...</td>\n    </tr>\n    <tr>\n      <th>1</th>\n      <td>1</td>\n      <td>Georgia1</td>\n      <td>September Complaint: Voting machine testing co...</td>\n    </tr>\n    <tr>\n      <th>2</th>\n      <td>2</td>\n      <td>Georgia1</td>\n      <td>A man accused of fatally shooting another pers...</td>\n    </tr>\n    <tr>\n      <th>3</th>\n      <td>3</td>\n      <td>Georgia1</td>\n      <td>Oops…\\n\\nGA Tech’s defense has been okay, but ...</td>\n    </tr>\n    <tr>\n      <th>4</th>\n      <td>4</td>\n      <td>Georgia1</td>\n      <td>Scott Frost bragged about how his new O-Line c...</td>\n    </tr>\n    <tr>\n      <th>...</th>\n      <td>...</td>\n      <td>...</td>\n      <td>...</td>\n    </tr>\n    <tr>\n      <th>2235</th>\n      <td>179</td>\n      <td>Washington14</td>\n      <td>@Madonna I make intercessions with Heaven for ...</td>\n    </tr>\n    <tr>\n      <th>2236</th>\n      <td>180</td>\n      <td>Washington14</td>\n      <td>Remember when Eagles coach Nick Sirianni took ...</td>\n    </tr>\n    <tr>\n      <th>2237</th>\n      <td>181</td>\n      <td>Washington14</td>\n      <td>@SovCam @juliegreen52722 @GloryBound_info It w...</td>\n    </tr>\n    <tr>\n      <th>2238</th>\n      <td>182</td>\n      <td>Washington14</td>\n      <td>@NWSportsfan1992 @Softykjr These polls are sup...</td>\n    </tr>\n    <tr>\n      <th>2239</th>\n      <td>183</td>\n      <td>Washington14</td>\n      <td>Dinah Washington - September In The Rain</td>\n    </tr>\n  </tbody>\n</table>\n<p>2240 rows × 3 columns</p>\n</div>"
     },
     "execution_count": 15,
     "metadata": {},
     "output_type": "execute_result"
    }
   ],
   "source": [
    "tweets"
   ],
   "metadata": {
    "collapsed": false,
    "pycharm": {
     "name": "#%%\n"
    }
   }
  },
  {
   "cell_type": "code",
   "execution_count": 25,
   "outputs": [],
   "source": [
    "stopwords_english = stopwords.words('english')\n",
    "tokenizer = TweetTokenizer(preserve_case=False,\n",
    "                           strip_handles=True,\n",
    "                           reduce_len=True)\n",
    "stemmer = PorterStemmer()\n",
    "link_removed_text = []\n",
    "before_stemming_list = []\n",
    "after_stemming_list = []\n",
    "for tweet in tweets[\"tweets\"].tolist():\n",
    "    # print('Original Tweet: ')\n",
    "    # print(a)\n",
    "\n",
    "    # it will remove the old style retweet text \"RT\"\n",
    "    tweet2 = re.sub(r'^RT[\\s]+', '', tweet)\n",
    "\n",
    "    # it will remove hyperlinks\n",
    "    tweet2 = re.sub(r'https?:\\/\\/.*[\\r\\n]*', '', tweet2)\n",
    "\n",
    "\n",
    "    # it will remove hashtags. We have to be careful here not to remove\n",
    "    # the whole hashtag because text of hashtags contains huge information.\n",
    "    # only removing the hash # sign from the word\n",
    "    tweet2 = re.sub(r'#', '', tweet2)\n",
    "\n",
    "    # it will remove single numeric terms in the tweet.\n",
    "    tweet2 = re.sub(r'[0-9]', '', tweet2)\n",
    "    tweet2 = tweet2.replace(\"’\", \"\")\n",
    "    tweet2 = tweet2.replace(\"`\", \"\")\n",
    "\n",
    "    # print('\\nAfter removing old style tweet, hyperlinks and # sign')\n",
    "    # print(tweet2)\n",
    "    link_removed_text.append(tweet2)\n",
    "\n",
    "    tweet_tokens = tokenizer.tokenize(tweet2)\n",
    "\n",
    "    tweets_clean = []\n",
    "    for word in tweet_tokens: # Go through every word in your tokens list\n",
    "        if (word not in stopwords_english and  # remove stopwords\n",
    "                word not in string.punctuation):  # remove punctuation\n",
    "            tweets_clean.append(word)\n",
    "    before_stemming_list.append(' '.join(tweets_clean))"
   ],
   "metadata": {
    "collapsed": false,
    "pycharm": {
     "name": "#%%\n"
    }
   }
  },
  {
   "cell_type": "code",
   "execution_count": 26,
   "outputs": [],
   "source": [
    "tweets[\"cleaned\"] = before_stemming_list"
   ],
   "metadata": {
    "collapsed": false,
    "pycharm": {
     "name": "#%%\n"
    }
   }
  },
  {
   "cell_type": "code",
   "execution_count": 28,
   "outputs": [],
   "source": [
    "tweets_based_on_event_id = tweets.groupby('event_id')[\"cleaned\"].apply(list)"
   ],
   "metadata": {
    "collapsed": false,
    "pycharm": {
     "name": "#%%\n"
    }
   }
  },
  {
   "cell_type": "code",
   "execution_count": 29,
   "outputs": [
    {
     "data": {
      "text/plain": "event_id\nBoston1      [need watch watched flight boston september re...\nBoston2      [cfp decolonizations discontents dissent oppos...\nBoston3      [contact rhode island-based colleen creativegr...\nBoston4      [went back home boston another ultra-liberal c...\nBoston5      [“ bunch freaks honest ” ― kakkz photographer ...\n                                   ...                        \nillinois5    [compare deaths september illinois alone imagi...\nillinois6    [cofa updated website fy estimated revenue col...\nillinois7    [true see nin riot fest illinois september lik...\nillinois8    [like marilyn manson lol tour together though ...\nillinois9    [sure wanna go back arguing crazy left instead...\nName: cleaned, Length: 163, dtype: object"
     },
     "execution_count": 29,
     "metadata": {},
     "output_type": "execute_result"
    }
   ],
   "source": [
    "tweets_based_on_event_id"
   ],
   "metadata": {
    "collapsed": false,
    "pycharm": {
     "name": "#%%\n"
    }
   }
  },
  {
   "cell_type": "code",
   "execution_count": 32,
   "outputs": [],
   "source": [
    "keys = list(tweets_based_on_event_id.keys())"
   ],
   "metadata": {
    "collapsed": false,
    "pycharm": {
     "name": "#%%\n"
    }
   }
  },
  {
   "cell_type": "code",
   "execution_count": 34,
   "outputs": [],
   "source": [
    "combined_tweets = []\n",
    "for key in keys:\n",
    "    strr = ' '.join(tweets_based_on_event_id.get(key))\n",
    "    combined_tweets.append(strr)"
   ],
   "metadata": {
    "collapsed": false,
    "pycharm": {
     "name": "#%%\n"
    }
   }
  },
  {
   "cell_type": "code",
   "execution_count": 36,
   "outputs": [],
   "source": [
    "final_pre_processed_tweets_data = pd.DataFrame()\n",
    "final_pre_processed_tweets_data[\"event_id\"] = keys\n",
    "final_pre_processed_tweets_data[\"combined_tweets\"] = combined_tweets"
   ],
   "metadata": {
    "collapsed": false,
    "pycharm": {
     "name": "#%%\n"
    }
   }
  },
  {
   "cell_type": "code",
   "execution_count": 38,
   "outputs": [],
   "source": [
    "final_pre_processed_tweets_data.to_csv(\"tweets_for_cassification.csv\", index=False)"
   ],
   "metadata": {
    "collapsed": false,
    "pycharm": {
     "name": "#%%\n"
    }
   }
  },
  {
   "cell_type": "code",
   "execution_count": 39,
   "outputs": [],
   "source": [
    "classified_data = pd.read_csv(\"classified_events.csv\")"
   ],
   "metadata": {
    "collapsed": false,
    "pycharm": {
     "name": "#%%\n"
    }
   }
  },
  {
   "cell_type": "code",
   "execution_count": 40,
   "outputs": [
    {
     "data": {
      "text/plain": "Index(['Unnamed: 0', 'event_id', 'combined_tweets', 'classification'], dtype='object')"
     },
     "execution_count": 40,
     "metadata": {},
     "output_type": "execute_result"
    }
   ],
   "source": [
    "classified_data.columns"
   ],
   "metadata": {
    "collapsed": false,
    "pycharm": {
     "name": "#%%\n"
    }
   }
  },
  {
   "cell_type": "code",
   "execution_count": 42,
   "outputs": [],
   "source": [
    "classified_data = classified_data.drop(['Unnamed: 0', 'combined_tweets'], axis=1)"
   ],
   "metadata": {
    "collapsed": false,
    "pycharm": {
     "name": "#%%\n"
    }
   }
  },
  {
   "cell_type": "code",
   "execution_count": 43,
   "outputs": [
    {
     "data": {
      "text/plain": "      event_id classification\n0      Boston1  entertainment\n1      Boston2          sport\n2      Boston3          sport\n3      Boston4          sport\n4      Boston5  entertainment\n..         ...            ...\n158  illinois5       business\n159  illinois6         others\n160  illinois7         others\n161  illinois8       business\n162  illinois9          sport\n\n[163 rows x 2 columns]",
      "text/html": "<div>\n<style scoped>\n    .dataframe tbody tr th:only-of-type {\n        vertical-align: middle;\n    }\n\n    .dataframe tbody tr th {\n        vertical-align: top;\n    }\n\n    .dataframe thead th {\n        text-align: right;\n    }\n</style>\n<table border=\"1\" class=\"dataframe\">\n  <thead>\n    <tr style=\"text-align: right;\">\n      <th></th>\n      <th>event_id</th>\n      <th>classification</th>\n    </tr>\n  </thead>\n  <tbody>\n    <tr>\n      <th>0</th>\n      <td>Boston1</td>\n      <td>entertainment</td>\n    </tr>\n    <tr>\n      <th>1</th>\n      <td>Boston2</td>\n      <td>sport</td>\n    </tr>\n    <tr>\n      <th>2</th>\n      <td>Boston3</td>\n      <td>sport</td>\n    </tr>\n    <tr>\n      <th>3</th>\n      <td>Boston4</td>\n      <td>sport</td>\n    </tr>\n    <tr>\n      <th>4</th>\n      <td>Boston5</td>\n      <td>entertainment</td>\n    </tr>\n    <tr>\n      <th>...</th>\n      <td>...</td>\n      <td>...</td>\n    </tr>\n    <tr>\n      <th>158</th>\n      <td>illinois5</td>\n      <td>business</td>\n    </tr>\n    <tr>\n      <th>159</th>\n      <td>illinois6</td>\n      <td>others</td>\n    </tr>\n    <tr>\n      <th>160</th>\n      <td>illinois7</td>\n      <td>others</td>\n    </tr>\n    <tr>\n      <th>161</th>\n      <td>illinois8</td>\n      <td>business</td>\n    </tr>\n    <tr>\n      <th>162</th>\n      <td>illinois9</td>\n      <td>sport</td>\n    </tr>\n  </tbody>\n</table>\n<p>163 rows × 2 columns</p>\n</div>"
     },
     "execution_count": 43,
     "metadata": {},
     "output_type": "execute_result"
    }
   ],
   "source": [
    "classified_data"
   ],
   "metadata": {
    "collapsed": false,
    "pycharm": {
     "name": "#%%\n"
    }
   }
  },
  {
   "cell_type": "code",
   "execution_count": 45,
   "outputs": [
    {
     "data": {
      "text/plain": "     Unnamed: 0     event_id    location     date  tweets_count  \\\n0             0  Washington1  Washington  9/13/22            13   \n1             1  Washington2  Washington  9/16/22            13   \n2             2  Washington3  Washington   9/3/22             8   \n3             3  Washington4  Washington   9/9/22            14   \n4             4  Washington5  Washington  9/10/22            27   \n..          ...          ...         ...      ...           ...   \n139           2     Georgia3     Georgia  9/10/22            12   \n140           3     Georgia4     Georgia   9/6/22            13   \n141           4     Georgia5     Georgia  9/13/22             5   \n142           5     Georgia6     Georgia  9/16/22            14   \n143           6     Georgia7     Georgia  9/15/22             9   \n\n                                              keywords event_sentiment  \n0    [('allies', 0.0370141109748817), ('trafalgar',...        Positive  \n1    [('corsi', 0.04162912505109767), ('interview',...        Negative  \n2    [('director', 0.10912854635271647), ('curiousl...        Positive  \n3    [('maryland', 0.02620209941119737), ('boulevar...        Negative  \n4    [('george', 0.04167087239681818), ('school', 0...        Positive  \n..                                                 ...             ...  \n139  [('county', 0.021428847152118378), ('camden', ...        Negative  \n140  [('county', 0.032262332786760446), ('sheriff',...        Negative  \n141  [('israeli', 0.06771232806350562), ('businessm...        Positive  \n142  [('mark', 0.06777092907666397), ('sabbath', 0....        Negative  \n143  [('year', 0.08956740615015714), ('county', 0.1...        Positive  \n\n[144 rows x 7 columns]",
      "text/html": "<div>\n<style scoped>\n    .dataframe tbody tr th:only-of-type {\n        vertical-align: middle;\n    }\n\n    .dataframe tbody tr th {\n        vertical-align: top;\n    }\n\n    .dataframe thead th {\n        text-align: right;\n    }\n</style>\n<table border=\"1\" class=\"dataframe\">\n  <thead>\n    <tr style=\"text-align: right;\">\n      <th></th>\n      <th>Unnamed: 0</th>\n      <th>event_id</th>\n      <th>location</th>\n      <th>date</th>\n      <th>tweets_count</th>\n      <th>keywords</th>\n      <th>event_sentiment</th>\n    </tr>\n  </thead>\n  <tbody>\n    <tr>\n      <th>0</th>\n      <td>0</td>\n      <td>Washington1</td>\n      <td>Washington</td>\n      <td>9/13/22</td>\n      <td>13</td>\n      <td>[('allies', 0.0370141109748817), ('trafalgar',...</td>\n      <td>Positive</td>\n    </tr>\n    <tr>\n      <th>1</th>\n      <td>1</td>\n      <td>Washington2</td>\n      <td>Washington</td>\n      <td>9/16/22</td>\n      <td>13</td>\n      <td>[('corsi', 0.04162912505109767), ('interview',...</td>\n      <td>Negative</td>\n    </tr>\n    <tr>\n      <th>2</th>\n      <td>2</td>\n      <td>Washington3</td>\n      <td>Washington</td>\n      <td>9/3/22</td>\n      <td>8</td>\n      <td>[('director', 0.10912854635271647), ('curiousl...</td>\n      <td>Positive</td>\n    </tr>\n    <tr>\n      <th>3</th>\n      <td>3</td>\n      <td>Washington4</td>\n      <td>Washington</td>\n      <td>9/9/22</td>\n      <td>14</td>\n      <td>[('maryland', 0.02620209941119737), ('boulevar...</td>\n      <td>Negative</td>\n    </tr>\n    <tr>\n      <th>4</th>\n      <td>4</td>\n      <td>Washington5</td>\n      <td>Washington</td>\n      <td>9/10/22</td>\n      <td>27</td>\n      <td>[('george', 0.04167087239681818), ('school', 0...</td>\n      <td>Positive</td>\n    </tr>\n    <tr>\n      <th>...</th>\n      <td>...</td>\n      <td>...</td>\n      <td>...</td>\n      <td>...</td>\n      <td>...</td>\n      <td>...</td>\n      <td>...</td>\n    </tr>\n    <tr>\n      <th>139</th>\n      <td>2</td>\n      <td>Georgia3</td>\n      <td>Georgia</td>\n      <td>9/10/22</td>\n      <td>12</td>\n      <td>[('county', 0.021428847152118378), ('camden', ...</td>\n      <td>Negative</td>\n    </tr>\n    <tr>\n      <th>140</th>\n      <td>3</td>\n      <td>Georgia4</td>\n      <td>Georgia</td>\n      <td>9/6/22</td>\n      <td>13</td>\n      <td>[('county', 0.032262332786760446), ('sheriff',...</td>\n      <td>Negative</td>\n    </tr>\n    <tr>\n      <th>141</th>\n      <td>4</td>\n      <td>Georgia5</td>\n      <td>Georgia</td>\n      <td>9/13/22</td>\n      <td>5</td>\n      <td>[('israeli', 0.06771232806350562), ('businessm...</td>\n      <td>Positive</td>\n    </tr>\n    <tr>\n      <th>142</th>\n      <td>5</td>\n      <td>Georgia6</td>\n      <td>Georgia</td>\n      <td>9/16/22</td>\n      <td>14</td>\n      <td>[('mark', 0.06777092907666397), ('sabbath', 0....</td>\n      <td>Negative</td>\n    </tr>\n    <tr>\n      <th>143</th>\n      <td>6</td>\n      <td>Georgia7</td>\n      <td>Georgia</td>\n      <td>9/15/22</td>\n      <td>9</td>\n      <td>[('year', 0.08956740615015714), ('county', 0.1...</td>\n      <td>Positive</td>\n    </tr>\n  </tbody>\n</table>\n<p>144 rows × 7 columns</p>\n</div>"
     },
     "execution_count": 45,
     "metadata": {},
     "output_type": "execute_result"
    }
   ],
   "source": [
    "final_org_data = pd.read_csv(\"final_dataset_v1.csv\")\n",
    "final_org_data"
   ],
   "metadata": {
    "collapsed": false,
    "pycharm": {
     "name": "#%%\n"
    }
   }
  },
  {
   "cell_type": "code",
   "execution_count": 46,
   "outputs": [],
   "source": [
    "new_df_df = pd.merge(final_org_data, classified_data, on=\"event_id\")"
   ],
   "metadata": {
    "collapsed": false,
    "pycharm": {
     "name": "#%%\n"
    }
   }
  },
  {
   "cell_type": "code",
   "execution_count": 50,
   "outputs": [],
   "source": [
    "new_df_df.to_csv(\"final_dataset_v1.csv\", index=False)"
   ],
   "metadata": {
    "collapsed": false,
    "pycharm": {
     "name": "#%%\n"
    }
   }
  },
  {
   "cell_type": "code",
   "execution_count": null,
   "outputs": [],
   "source": [],
   "metadata": {
    "collapsed": false,
    "pycharm": {
     "name": "#%%\n"
    }
   }
  }
 ],
 "metadata": {
  "kernelspec": {
   "display_name": "Python 3",
   "language": "python",
   "name": "python3"
  },
  "language_info": {
   "codemirror_mode": {
    "name": "ipython",
    "version": 2
   },
   "file_extension": ".py",
   "mimetype": "text/x-python",
   "name": "python",
   "nbconvert_exporter": "python",
   "pygments_lexer": "ipython2",
   "version": "2.7.6"
  }
 },
 "nbformat": 4,
 "nbformat_minor": 0
}