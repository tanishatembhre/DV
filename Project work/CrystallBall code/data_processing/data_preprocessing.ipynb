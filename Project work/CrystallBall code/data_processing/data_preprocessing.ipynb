{
 "cells": [
  {
   "cell_type": "code",
   "execution_count": 1062,
   "outputs": [],
   "source": [
    "import pandas as pd\n",
    "import numpy as np\n",
    "import re"
   ],
   "metadata": {
    "collapsed": false,
    "pycharm": {
     "name": "#%%\n"
    }
   }
  },
  {
   "cell_type": "code",
   "execution_count": 1063,
   "outputs": [],
   "source": [
    "import os\n",
    "path = \"Data/\"\n",
    "list_ = os.listdir(path)"
   ],
   "metadata": {
    "collapsed": false,
    "pycharm": {
     "name": "#%%\n"
    }
   }
  },
  {
   "cell_type": "code",
   "execution_count": 59,
   "outputs": [],
   "source": [
    "# for file in list:\n",
    "#     data = pd.read_csv(f\"{path}+{file}\")\n",
    "#     loc = file.split(\".\")[0]\n",
    "#     data = data.drop(['Unnamed: 0'], axis=1)\n",
    "#"
   ],
   "metadata": {
    "collapsed": false,
    "pycharm": {
     "name": "#%%\n"
    }
   }
  },
  {
   "cell_type": "code",
   "execution_count": 1032,
   "outputs": [],
   "source": [
    "loc = \"arizona\"\n",
    "data = pd.read_csv(f\"{loc}.csv\")"
   ],
   "metadata": {
    "collapsed": false,
    "pycharm": {
     "name": "#%%\n"
    }
   }
  },
  {
   "cell_type": "code",
   "execution_count": 1033,
   "outputs": [
    {
     "data": {
      "text/plain": "(165, 1)"
     },
     "execution_count": 1033,
     "metadata": {},
     "output_type": "execute_result"
    }
   ],
   "source": [
    "data = data.drop(['Unnamed: 0'], axis=1)\n",
    "data.shape"
   ],
   "metadata": {
    "collapsed": false,
    "pycharm": {
     "name": "#%%\n"
    }
   }
  },
  {
   "cell_type": "code",
   "execution_count": 1034,
   "outputs": [
    {
     "data": {
      "text/plain": "                                                     0\n0    Many swing states should have earlier primarie...\n1    \"Look\" | Solmaz Sharif - September 1, 2016 | V...\n2    In September USDA announced $502 million in fu...\n3    Arizona Consortium for the Arts September 2022...\n4    Potential pet owners in Texas will be able to ...\n..                                                 ...\n159  @GuntherEagleman Correct again, so it begs the...\n160  @BraydenCreation My wife at the Grand Canyon, ...\n162  If more money was in the race for Barnes durin...\n163  @annalynnfrey Maybe in Arizona they should sta...\n164  @Skicnic @MeBeHealthy @Redistrict Those Arizon...\n\n[69 rows x 1 columns]",
      "text/html": "<div>\n<style scoped>\n    .dataframe tbody tr th:only-of-type {\n        vertical-align: middle;\n    }\n\n    .dataframe tbody tr th {\n        vertical-align: top;\n    }\n\n    .dataframe thead th {\n        text-align: right;\n    }\n</style>\n<table border=\"1\" class=\"dataframe\">\n  <thead>\n    <tr style=\"text-align: right;\">\n      <th></th>\n      <th>0</th>\n    </tr>\n  </thead>\n  <tbody>\n    <tr>\n      <th>0</th>\n      <td>Many swing states should have earlier primarie...</td>\n    </tr>\n    <tr>\n      <th>1</th>\n      <td>\"Look\" | Solmaz Sharif - September 1, 2016 | V...</td>\n    </tr>\n    <tr>\n      <th>2</th>\n      <td>In September USDA announced $502 million in fu...</td>\n    </tr>\n    <tr>\n      <th>3</th>\n      <td>Arizona Consortium for the Arts September 2022...</td>\n    </tr>\n    <tr>\n      <th>4</th>\n      <td>Potential pet owners in Texas will be able to ...</td>\n    </tr>\n    <tr>\n      <th>...</th>\n      <td>...</td>\n    </tr>\n    <tr>\n      <th>159</th>\n      <td>@GuntherEagleman Correct again, so it begs the...</td>\n    </tr>\n    <tr>\n      <th>160</th>\n      <td>@BraydenCreation My wife at the Grand Canyon, ...</td>\n    </tr>\n    <tr>\n      <th>162</th>\n      <td>If more money was in the race for Barnes durin...</td>\n    </tr>\n    <tr>\n      <th>163</th>\n      <td>@annalynnfrey Maybe in Arizona they should sta...</td>\n    </tr>\n    <tr>\n      <th>164</th>\n      <td>@Skicnic @MeBeHealthy @Redistrict Those Arizon...</td>\n    </tr>\n  </tbody>\n</table>\n<p>69 rows × 1 columns</p>\n</div>"
     },
     "execution_count": 1034,
     "metadata": {},
     "output_type": "execute_result"
    }
   ],
   "source": [
    "data = data.drop_duplicates(subset=['0'])\n",
    "data"
   ],
   "metadata": {
    "collapsed": false,
    "pycharm": {
     "name": "#%%\n"
    }
   }
  },
  {
   "cell_type": "code",
   "execution_count": 1036,
   "outputs": [],
   "source": [
    "def parse(text):\n",
    "    text = text.lower()\n",
    "    return text"
   ],
   "metadata": {
    "collapsed": false,
    "pycharm": {
     "name": "#%%\n"
    }
   }
  },
  {
   "cell_type": "code",
   "execution_count": 1037,
   "outputs": [
    {
     "data": {
      "text/plain": "(69, 1)"
     },
     "execution_count": 1037,
     "metadata": {},
     "output_type": "execute_result"
    }
   ],
   "source": [
    "data = data.drop_duplicates()\n",
    "data.shape"
   ],
   "metadata": {
    "collapsed": false,
    "pycharm": {
     "name": "#%%\n"
    }
   }
  },
  {
   "cell_type": "code",
   "execution_count": 1038,
   "outputs": [],
   "source": [
    "# from dateparser.search import search_dates\n",
    "# print(search_dates(a))\n",
    "#https://www.kaggle.com/code/redwankarimsony/nlp-101-tweet-sentiment-analysis-preprocessing/notebook"
   ],
   "metadata": {
    "collapsed": false,
    "pycharm": {
     "name": "#%%\n"
    }
   }
  },
  {
   "cell_type": "code",
   "execution_count": null,
   "outputs": [],
   "source": [],
   "metadata": {
    "collapsed": false,
    "pycharm": {
     "name": "#%%\n"
    }
   }
  },
  {
   "cell_type": "code",
   "execution_count": null,
   "outputs": [],
   "source": [],
   "metadata": {
    "collapsed": false,
    "pycharm": {
     "name": "#%%\n"
    }
   }
  },
  {
   "cell_type": "code",
   "execution_count": null,
   "outputs": [],
   "source": [],
   "metadata": {
    "collapsed": false,
    "pycharm": {
     "name": "#%%\n"
    }
   }
  },
  {
   "cell_type": "code",
   "execution_count": 1045,
   "outputs": [
    {
     "name": "stderr",
     "output_type": "stream",
     "text": [
      "[nltk_data] Downloading package stopwords to\n",
      "[nltk_data]     /Users/bharathkumar/nltk_data...\n",
      "[nltk_data]   Package stopwords is already up-to-date!\n"
     ]
    }
   ],
   "source": [
    "import nltk\n",
    "import random\n",
    "\n",
    "nltk.download('stopwords')\n",
    "\n",
    "import re\n",
    "import string\n",
    "from nltk.corpus import stopwords\n",
    "from nltk.stem import PorterStemmer\n",
    "from nltk.tokenize import TweetTokenizer\n",
    "import datefinder"
   ],
   "metadata": {
    "collapsed": false,
    "pycharm": {
     "name": "#%%\n"
    }
   }
  },
  {
   "cell_type": "code",
   "execution_count": 1048,
   "outputs": [],
   "source": [
    "stopwords_english = stopwords.words('english')\n",
    "tokenizer = TweetTokenizer(preserve_case=False,\n",
    "                           strip_handles=True,\n",
    "                           reduce_len=True)\n",
    "stemmer = PorterStemmer()\n",
    "link_removed_text = []\n",
    "before_stemming_list = []\n",
    "after_stemming_list = []\n",
    "date = []\n",
    "for tweet in data[\"0\"].tolist():\n",
    "    # print('Original Tweet: ')\n",
    "    # print(a)\n",
    "\n",
    "    # it will remove the old style retweet text \"RT\"\n",
    "    tweet2 = re.sub(r'^RT[\\s]+', '', tweet)\n",
    "\n",
    "    # it will remove hyperlinks\n",
    "    tweet2 = re.sub(r'https?:\\/\\/.*[\\r\\n]*', '', tweet2)\n",
    "\n",
    "\n",
    "    # it will remove hashtags. We have to be careful here not to remove\n",
    "    # the whole hashtag because text of hashtags contains huge information.\n",
    "    # only removing the hash # sign from the word\n",
    "    tweet2 = re.sub(r'#', '', tweet2)\n",
    "\n",
    "    # it will remove single numeric terms in the tweet.\n",
    "    tweet2 = re.sub(r'[0-9]', '', tweet2)\n",
    "\n",
    "    # print('\\nAfter removing old style tweet, hyperlinks and # sign')\n",
    "    # print(tweet2)\n",
    "    link_removed_text.append(tweet2)\n",
    "\n",
    "    tweet_tokens = tokenizer.tokenize(tweet2)\n",
    "\n",
    "    tweets_clean = []\n",
    "    for word in tweet_tokens: # Go through every word in your tokens list\n",
    "        if (word not in stopwords_english and  # remove stopwords\n",
    "                word not in string.punctuation):  # remove punctuation\n",
    "            tweets_clean.append(word)\n",
    "        try:\n",
    "            tweets_clean.remove(loc.lower())\n",
    "        except:\n",
    "            pass\n",
    "        try:\n",
    "            tweets_clean.remove(\"york\")\n",
    "        except:\n",
    "            pass\n",
    "    date.append(datefinder(\" \".join(tweets_clean)))\n",
    "    before_stemming_list.append(tweets_clean)\n",
    "    tweets_stem = []\n",
    "    for word in tweets_clean:\n",
    "        stem_word = stemmer.stem(word)  # stemming word\n",
    "        tweets_stem.append(stem_word)  # append to the list\n",
    "    after_stemming_list.append(tweets_stem)"
   ],
   "metadata": {
    "collapsed": false,
    "pycharm": {
     "name": "#%%\n"
    }
   }
  },
  {
   "cell_type": "code",
   "execution_count": 1049,
   "outputs": [],
   "source": [
    "# l = [\"a\", \"b\", \"c\"]\n",
    "# print(l)\n",
    "# try:\n",
    "#     l.remove(\"a\")\n",
    "# except:\n",
    "#     pass\n",
    "# print(l)"
   ],
   "metadata": {
    "collapsed": false,
    "pycharm": {
     "name": "#%%\n"
    }
   }
  },
  {
   "cell_type": "code",
   "execution_count": 1050,
   "outputs": [],
   "source": [
    "data[\"removed_links\"] = link_removed_text\n",
    "data[\"before_stemming\"] = before_stemming_list\n",
    "data[\"after_stemming\"] = after_stemming_list\n",
    "data[\"date\"] = date"
   ],
   "metadata": {
    "collapsed": false,
    "pycharm": {
     "name": "#%%\n"
    }
   }
  },
  {
   "cell_type": "code",
   "execution_count": 1052,
   "outputs": [],
   "source": [
    "data_groups_count = {}\n",
    "tweets_group = {}\n",
    "for index, row in data.iterrows():\n",
    "    date = str(row[\"date\"])\n",
    "    if date in data_groups_count:\n",
    "        data_groups_count[date].append(row[\"before_stemming\"])\n",
    "        tweets_group[date].append(row[\"0\"])\n",
    "    else:\n",
    "        data_groups_count[date] = [row[\"before_stemming\"]]\n",
    "        tweets_group[date] = [row[\"0\"]]"
   ],
   "metadata": {
    "collapsed": false,
    "pycharm": {
     "name": "#%%\n"
    }
   }
  },
  {
   "cell_type": "code",
   "execution_count": 1052,
   "outputs": [],
   "source": [],
   "metadata": {
    "collapsed": false,
    "pycharm": {
     "name": "#%%\n"
    }
   }
  },
  {
   "cell_type": "code",
   "execution_count": 1053,
   "outputs": [],
   "source": [
    "data_groups = {}\n",
    "for index, row in data.iterrows():\n",
    "    date = str(row[\"date\"])\n",
    "    if date in data_groups:\n",
    "        data_groups[date] += row[\"before_stemming\"]\n",
    "    else:\n",
    "        data_groups[date] = row[\"before_stemming\"]"
   ],
   "metadata": {
    "collapsed": false,
    "pycharm": {
     "name": "#%%\n"
    }
   }
  },
  {
   "cell_type": "code",
   "execution_count": 1054,
   "outputs": [
    {
     "name": "stdout",
     "output_type": "stream",
     "text": [
      "2022-09-13 310\n",
      "2022-09-03 119\n",
      "2022-09-09 132\n",
      "2022-09-10 128\n",
      "2022-09-04 144\n",
      "2022-09-07 190\n"
     ]
    }
   ],
   "source": [
    "for each in data_groups:\n",
    "    print(each, len(data_groups[each]))"
   ],
   "metadata": {
    "collapsed": false,
    "pycharm": {
     "name": "#%%\n"
    }
   }
  },
  {
   "cell_type": "code",
   "execution_count": 1055,
   "outputs": [],
   "source": [
    "import yake\n",
    "\n",
    "language = \"en\"\n",
    "max_ngram_size = 1\n",
    "deduplication_threshold = 0.3\n",
    "numOfKeywords = 50\n",
    "custom_kw_extractor = yake.KeywordExtractor(lan=language, n=max_ngram_size, dedupLim=deduplication_threshold, top=numOfKeywords, features=None)\n",
    "\n",
    "keywords = {}\n",
    "def sort(ele):\n",
    "    return ele[1]\n",
    "\n",
    "for key, each in data_groups.items():\n",
    "    keyword = custom_kw_extractor.extract_keywords(' '.join(each))\n",
    "    temp = []\n",
    "    for e in keyword:\n",
    "        temp.append(e)\n",
    "    temp = sorted(temp, key=sort)\n",
    "    keywords[key] = temp"
   ],
   "metadata": {
    "collapsed": false,
    "pycharm": {
     "name": "#%%\n"
    }
   }
  },
  {
   "cell_type": "code",
   "execution_count": 1055,
   "outputs": [],
   "source": [],
   "metadata": {
    "collapsed": false,
    "pycharm": {
     "name": "#%%\n"
    }
   }
  },
  {
   "cell_type": "code",
   "execution_count": 1056,
   "outputs": [],
   "source": [
    "date_final = []\n",
    "keywords_final = []\n",
    "tweets_count = []\n",
    "ids=[]\n",
    "location = []\n",
    "tweets_for_event_id = []\n",
    "tweets_for_events = []\n",
    "id = 1\n",
    "for key, each in data_groups.items():\n",
    "    temp_id = f\"{loc}{id}\"\n",
    "    ids.append(temp_id)\n",
    "    id+=1\n",
    "    date_final.append(key)\n",
    "    keywords_final.append(keywords[key])\n",
    "    tweets_count.append(len(data_groups_count[key]))\n",
    "    location.append(loc)\n",
    "    tweets_temp = tweets_group[key]\n",
    "    tweets_for_event_id += [temp_id] * len(tweets_temp)\n",
    "    tweets_for_events += tweets_temp\n"
   ],
   "metadata": {
    "collapsed": false,
    "pycharm": {
     "name": "#%%\n"
    }
   }
  },
  {
   "cell_type": "code",
   "execution_count": 1056,
   "outputs": [],
   "source": [],
   "metadata": {
    "collapsed": false,
    "pycharm": {
     "name": "#%%\n"
    }
   }
  },
  {
   "cell_type": "code",
   "execution_count": 1057,
   "outputs": [],
   "source": [
    "new_df = pd.DataFrame()\n",
    "new_df[\"event_id\"] = ids\n",
    "new_df[\"location\"] = location\n",
    "new_df[\"date\"] = date_final\n",
    "new_df[\"tweets_count\"] = tweets_count\n",
    "new_df[\"keywords\"] = keywords_final\n",
    "# new_df[\"tweets_list\"] = tweets_for_event"
   ],
   "metadata": {
    "collapsed": false,
    "pycharm": {
     "name": "#%%\n"
    }
   }
  },
  {
   "cell_type": "code",
   "execution_count": 1058,
   "outputs": [
    {
     "data": {
      "text/plain": "   event_id location        date  tweets_count  \\\n0  arizona1  arizona  2022-09-13            18   \n1  arizona2  arizona  2022-09-03            11   \n2  arizona3  arizona  2022-09-09             9   \n3  arizona4  arizona  2022-09-10            10   \n4  arizona5  arizona  2022-09-04             8   \n5  arizona6  arizona  2022-09-07            13   \n\n                                            keywords  \n0  [(home, 0.035978445329520575), (owners, 0.0412...  \n1  [(october, 0.06880760836778534), (end, 0.08492...  \n2  [(night, 0.03586452558037769), (storms, 0.0358...  \n3  [(german, 0.11332151123048782), (reheld, 0.113...  \n4  [(walden, 0.028225766699880157), (grove, 0.028...  \n5  [(republican, 0.054789296127333964), (finchem,...  ",
      "text/html": "<div>\n<style scoped>\n    .dataframe tbody tr th:only-of-type {\n        vertical-align: middle;\n    }\n\n    .dataframe tbody tr th {\n        vertical-align: top;\n    }\n\n    .dataframe thead th {\n        text-align: right;\n    }\n</style>\n<table border=\"1\" class=\"dataframe\">\n  <thead>\n    <tr style=\"text-align: right;\">\n      <th></th>\n      <th>event_id</th>\n      <th>location</th>\n      <th>date</th>\n      <th>tweets_count</th>\n      <th>keywords</th>\n    </tr>\n  </thead>\n  <tbody>\n    <tr>\n      <th>0</th>\n      <td>arizona1</td>\n      <td>arizona</td>\n      <td>2022-09-13</td>\n      <td>18</td>\n      <td>[(home, 0.035978445329520575), (owners, 0.0412...</td>\n    </tr>\n    <tr>\n      <th>1</th>\n      <td>arizona2</td>\n      <td>arizona</td>\n      <td>2022-09-03</td>\n      <td>11</td>\n      <td>[(october, 0.06880760836778534), (end, 0.08492...</td>\n    </tr>\n    <tr>\n      <th>2</th>\n      <td>arizona3</td>\n      <td>arizona</td>\n      <td>2022-09-09</td>\n      <td>9</td>\n      <td>[(night, 0.03586452558037769), (storms, 0.0358...</td>\n    </tr>\n    <tr>\n      <th>3</th>\n      <td>arizona4</td>\n      <td>arizona</td>\n      <td>2022-09-10</td>\n      <td>10</td>\n      <td>[(german, 0.11332151123048782), (reheld, 0.113...</td>\n    </tr>\n    <tr>\n      <th>4</th>\n      <td>arizona5</td>\n      <td>arizona</td>\n      <td>2022-09-04</td>\n      <td>8</td>\n      <td>[(walden, 0.028225766699880157), (grove, 0.028...</td>\n    </tr>\n    <tr>\n      <th>5</th>\n      <td>arizona6</td>\n      <td>arizona</td>\n      <td>2022-09-07</td>\n      <td>13</td>\n      <td>[(republican, 0.054789296127333964), (finchem,...</td>\n    </tr>\n  </tbody>\n</table>\n</div>"
     },
     "execution_count": 1058,
     "metadata": {},
     "output_type": "execute_result"
    }
   ],
   "source": [
    "new_df"
   ],
   "metadata": {
    "collapsed": false,
    "pycharm": {
     "name": "#%%\n"
    }
   }
  },
  {
   "cell_type": "code",
   "execution_count": 1059,
   "outputs": [],
   "source": [
    "new_df.to_csv(f\"processed_data/final_processed_{loc.lower()}_v1.csv\", index=False)"
   ],
   "metadata": {
    "collapsed": false,
    "pycharm": {
     "name": "#%%\n"
    }
   }
  },
  {
   "cell_type": "code",
   "execution_count": 1060,
   "outputs": [],
   "source": [
    "new_df_tweets = pd.DataFrame()\n",
    "new_df_tweets[\"event_id\"] = tweets_for_event_id\n",
    "new_df_tweets[\"tweets\"] = tweets_for_events\n",
    "new_df_tweets.to_csv(f\"tweets_list/{loc.lower()}.csv\")"
   ],
   "metadata": {
    "collapsed": false,
    "pycharm": {
     "name": "#%%\n"
    }
   }
  },
  {
   "cell_type": "code",
   "execution_count": 1061,
   "outputs": [
    {
     "data": {
      "text/plain": "    event_id                                             tweets\n0   arizona1  Many swing states should have earlier primarie...\n1   arizona1  In September USDA announced $502 million in fu...\n2   arizona1  Potential pet owners in Texas will be able to ...\n3   arizona1  According to court documents, Sherman Edward L...\n4   arizona1  Potential pet owners in Texas will be able to ...\n..       ...                                                ...\n64  arizona6  NBC News projects Democrat Adrian Fontes defea...\n65  arizona6  Magnus blamed Republican governors in Septembe...\n66  arizona6  @cipola6672 @RepublicanCoryR Oh, look at this ...\n67  arizona6  If more money was in the race for Barnes durin...\n68  arizona6  @annalynnfrey Maybe in Arizona they should sta...\n\n[69 rows x 2 columns]",
      "text/html": "<div>\n<style scoped>\n    .dataframe tbody tr th:only-of-type {\n        vertical-align: middle;\n    }\n\n    .dataframe tbody tr th {\n        vertical-align: top;\n    }\n\n    .dataframe thead th {\n        text-align: right;\n    }\n</style>\n<table border=\"1\" class=\"dataframe\">\n  <thead>\n    <tr style=\"text-align: right;\">\n      <th></th>\n      <th>event_id</th>\n      <th>tweets</th>\n    </tr>\n  </thead>\n  <tbody>\n    <tr>\n      <th>0</th>\n      <td>arizona1</td>\n      <td>Many swing states should have earlier primarie...</td>\n    </tr>\n    <tr>\n      <th>1</th>\n      <td>arizona1</td>\n      <td>In September USDA announced $502 million in fu...</td>\n    </tr>\n    <tr>\n      <th>2</th>\n      <td>arizona1</td>\n      <td>Potential pet owners in Texas will be able to ...</td>\n    </tr>\n    <tr>\n      <th>3</th>\n      <td>arizona1</td>\n      <td>According to court documents, Sherman Edward L...</td>\n    </tr>\n    <tr>\n      <th>4</th>\n      <td>arizona1</td>\n      <td>Potential pet owners in Texas will be able to ...</td>\n    </tr>\n    <tr>\n      <th>...</th>\n      <td>...</td>\n      <td>...</td>\n    </tr>\n    <tr>\n      <th>64</th>\n      <td>arizona6</td>\n      <td>NBC News projects Democrat Adrian Fontes defea...</td>\n    </tr>\n    <tr>\n      <th>65</th>\n      <td>arizona6</td>\n      <td>Magnus blamed Republican governors in Septembe...</td>\n    </tr>\n    <tr>\n      <th>66</th>\n      <td>arizona6</td>\n      <td>@cipola6672 @RepublicanCoryR Oh, look at this ...</td>\n    </tr>\n    <tr>\n      <th>67</th>\n      <td>arizona6</td>\n      <td>If more money was in the race for Barnes durin...</td>\n    </tr>\n    <tr>\n      <th>68</th>\n      <td>arizona6</td>\n      <td>@annalynnfrey Maybe in Arizona they should sta...</td>\n    </tr>\n  </tbody>\n</table>\n<p>69 rows × 2 columns</p>\n</div>"
     },
     "execution_count": 1061,
     "metadata": {},
     "output_type": "execute_result"
    }
   ],
   "source": [
    "new_df_tweets"
   ],
   "metadata": {
    "collapsed": false,
    "pycharm": {
     "name": "#%%\n"
    }
   }
  },
  {
   "cell_type": "code",
   "execution_count": 1065,
   "outputs": [
    {
     "data": {
      "text/plain": "Index(['Unnamed: 0', 'event_id', 'location', 'date', 'tweets_count',\n       'keywords', 'event_sentiment', 'classification'],\n      dtype='object')"
     },
     "execution_count": 1065,
     "metadata": {},
     "output_type": "execute_result"
    }
   ],
   "source": [
    "org_data = pd.read_csv(\"final_dataset_v1.csv\")\n",
    "org_data.columns"
   ],
   "metadata": {
    "collapsed": false,
    "pycharm": {
     "name": "#%%\n"
    }
   }
  },
  {
   "cell_type": "code",
   "execution_count": 1066,
   "outputs": [
    {
     "data": {
      "text/plain": "     Unnamed: 0     event_id    location        date  tweets_count  \\\n0             0  Washington1  Washington  2022-09-13            13   \n1             1  Washington2  Washington  2022-09-16            13   \n2             2  Washington3  Washington  2022-09-03             8   \n3             3  Washington4  Washington  2022-09-09            14   \n4             4  Washington5  Washington  2022-09-10            27   \n..          ...          ...         ...         ...           ...   \n139           2     Georgia3     Georgia  2022-09-10            12   \n140           3     Georgia4     Georgia  2022-09-06            13   \n141           4     Georgia5     Georgia  2022-09-13             5   \n142           5     Georgia6     Georgia  2022-09-16            14   \n143           6     Georgia7     Georgia  2022-09-15             9   \n\n                                              keywords event_sentiment  \\\n0    [('allies', 0.0370141109748817), ('trafalgar',...        Positive   \n1    [('corsi', 0.04162912505109767), ('interview',...        Negative   \n2    [('director', 0.10912854635271647), ('curiousl...        Positive   \n3    [('maryland', 0.02620209941119737), ('boulevar...        Negative   \n4    [('george', 0.04167087239681818), ('school', 0...        Positive   \n..                                                 ...             ...   \n139  [('county', 0.021428847152118378), ('camden', ...        Negative   \n140  [('county', 0.032262332786760446), ('sheriff',...        Negative   \n141  [('israeli', 0.06771232806350562), ('businessm...        Positive   \n142  [('mark', 0.06777092907666397), ('sabbath', 0....        Negative   \n143  [('year', 0.08956740615015714), ('county', 0.1...        Positive   \n\n    classification  \n0       historical  \n1       historical  \n2            sport  \n3            sport  \n4         business  \n..             ...  \n139          sport  \n140          sport  \n141     historical  \n142     historical  \n143     historical  \n\n[144 rows x 8 columns]",
      "text/html": "<div>\n<style scoped>\n    .dataframe tbody tr th:only-of-type {\n        vertical-align: middle;\n    }\n\n    .dataframe tbody tr th {\n        vertical-align: top;\n    }\n\n    .dataframe thead th {\n        text-align: right;\n    }\n</style>\n<table border=\"1\" class=\"dataframe\">\n  <thead>\n    <tr style=\"text-align: right;\">\n      <th></th>\n      <th>Unnamed: 0</th>\n      <th>event_id</th>\n      <th>location</th>\n      <th>date</th>\n      <th>tweets_count</th>\n      <th>keywords</th>\n      <th>event_sentiment</th>\n      <th>classification</th>\n    </tr>\n  </thead>\n  <tbody>\n    <tr>\n      <th>0</th>\n      <td>0</td>\n      <td>Washington1</td>\n      <td>Washington</td>\n      <td>2022-09-13</td>\n      <td>13</td>\n      <td>[('allies', 0.0370141109748817), ('trafalgar',...</td>\n      <td>Positive</td>\n      <td>historical</td>\n    </tr>\n    <tr>\n      <th>1</th>\n      <td>1</td>\n      <td>Washington2</td>\n      <td>Washington</td>\n      <td>2022-09-16</td>\n      <td>13</td>\n      <td>[('corsi', 0.04162912505109767), ('interview',...</td>\n      <td>Negative</td>\n      <td>historical</td>\n    </tr>\n    <tr>\n      <th>2</th>\n      <td>2</td>\n      <td>Washington3</td>\n      <td>Washington</td>\n      <td>2022-09-03</td>\n      <td>8</td>\n      <td>[('director', 0.10912854635271647), ('curiousl...</td>\n      <td>Positive</td>\n      <td>sport</td>\n    </tr>\n    <tr>\n      <th>3</th>\n      <td>3</td>\n      <td>Washington4</td>\n      <td>Washington</td>\n      <td>2022-09-09</td>\n      <td>14</td>\n      <td>[('maryland', 0.02620209941119737), ('boulevar...</td>\n      <td>Negative</td>\n      <td>sport</td>\n    </tr>\n    <tr>\n      <th>4</th>\n      <td>4</td>\n      <td>Washington5</td>\n      <td>Washington</td>\n      <td>2022-09-10</td>\n      <td>27</td>\n      <td>[('george', 0.04167087239681818), ('school', 0...</td>\n      <td>Positive</td>\n      <td>business</td>\n    </tr>\n    <tr>\n      <th>...</th>\n      <td>...</td>\n      <td>...</td>\n      <td>...</td>\n      <td>...</td>\n      <td>...</td>\n      <td>...</td>\n      <td>...</td>\n      <td>...</td>\n    </tr>\n    <tr>\n      <th>139</th>\n      <td>2</td>\n      <td>Georgia3</td>\n      <td>Georgia</td>\n      <td>2022-09-10</td>\n      <td>12</td>\n      <td>[('county', 0.021428847152118378), ('camden', ...</td>\n      <td>Negative</td>\n      <td>sport</td>\n    </tr>\n    <tr>\n      <th>140</th>\n      <td>3</td>\n      <td>Georgia4</td>\n      <td>Georgia</td>\n      <td>2022-09-06</td>\n      <td>13</td>\n      <td>[('county', 0.032262332786760446), ('sheriff',...</td>\n      <td>Negative</td>\n      <td>sport</td>\n    </tr>\n    <tr>\n      <th>141</th>\n      <td>4</td>\n      <td>Georgia5</td>\n      <td>Georgia</td>\n      <td>2022-09-13</td>\n      <td>5</td>\n      <td>[('israeli', 0.06771232806350562), ('businessm...</td>\n      <td>Positive</td>\n      <td>historical</td>\n    </tr>\n    <tr>\n      <th>142</th>\n      <td>5</td>\n      <td>Georgia6</td>\n      <td>Georgia</td>\n      <td>2022-09-16</td>\n      <td>14</td>\n      <td>[('mark', 0.06777092907666397), ('sabbath', 0....</td>\n      <td>Negative</td>\n      <td>historical</td>\n    </tr>\n    <tr>\n      <th>143</th>\n      <td>6</td>\n      <td>Georgia7</td>\n      <td>Georgia</td>\n      <td>2022-09-15</td>\n      <td>9</td>\n      <td>[('year', 0.08956740615015714), ('county', 0.1...</td>\n      <td>Positive</td>\n      <td>historical</td>\n    </tr>\n  </tbody>\n</table>\n<p>144 rows × 8 columns</p>\n</div>"
     },
     "execution_count": 1066,
     "metadata": {},
     "output_type": "execute_result"
    }
   ],
   "source": [
    "org_data"
   ],
   "metadata": {
    "collapsed": false,
    "pycharm": {
     "name": "#%%\n"
    }
   }
  },
  {
   "cell_type": "code",
   "execution_count": 1069,
   "outputs": [],
   "source": [
    "req_data = org_data[[\"event_id\", \"location\", \"date\"]]"
   ],
   "metadata": {
    "collapsed": false,
    "pycharm": {
     "name": "#%%\n"
    }
   }
  },
  {
   "cell_type": "code",
   "execution_count": 1070,
   "outputs": [
    {
     "data": {
      "text/plain": "        event_id    location        date\n0    Washington1  Washington  2022-09-13\n1    Washington2  Washington  2022-09-16\n2    Washington3  Washington  2022-09-03\n3    Washington4  Washington  2022-09-09\n4    Washington5  Washington  2022-09-10\n..           ...         ...         ...\n139     Georgia3     Georgia  2022-09-10\n140     Georgia4     Georgia  2022-09-06\n141     Georgia5     Georgia  2022-09-13\n142     Georgia6     Georgia  2022-09-16\n143     Georgia7     Georgia  2022-09-15\n\n[144 rows x 3 columns]",
      "text/html": "<div>\n<style scoped>\n    .dataframe tbody tr th:only-of-type {\n        vertical-align: middle;\n    }\n\n    .dataframe tbody tr th {\n        vertical-align: top;\n    }\n\n    .dataframe thead th {\n        text-align: right;\n    }\n</style>\n<table border=\"1\" class=\"dataframe\">\n  <thead>\n    <tr style=\"text-align: right;\">\n      <th></th>\n      <th>event_id</th>\n      <th>location</th>\n      <th>date</th>\n    </tr>\n  </thead>\n  <tbody>\n    <tr>\n      <th>0</th>\n      <td>Washington1</td>\n      <td>Washington</td>\n      <td>2022-09-13</td>\n    </tr>\n    <tr>\n      <th>1</th>\n      <td>Washington2</td>\n      <td>Washington</td>\n      <td>2022-09-16</td>\n    </tr>\n    <tr>\n      <th>2</th>\n      <td>Washington3</td>\n      <td>Washington</td>\n      <td>2022-09-03</td>\n    </tr>\n    <tr>\n      <th>3</th>\n      <td>Washington4</td>\n      <td>Washington</td>\n      <td>2022-09-09</td>\n    </tr>\n    <tr>\n      <th>4</th>\n      <td>Washington5</td>\n      <td>Washington</td>\n      <td>2022-09-10</td>\n    </tr>\n    <tr>\n      <th>...</th>\n      <td>...</td>\n      <td>...</td>\n      <td>...</td>\n    </tr>\n    <tr>\n      <th>139</th>\n      <td>Georgia3</td>\n      <td>Georgia</td>\n      <td>2022-09-10</td>\n    </tr>\n    <tr>\n      <th>140</th>\n      <td>Georgia4</td>\n      <td>Georgia</td>\n      <td>2022-09-06</td>\n    </tr>\n    <tr>\n      <th>141</th>\n      <td>Georgia5</td>\n      <td>Georgia</td>\n      <td>2022-09-13</td>\n    </tr>\n    <tr>\n      <th>142</th>\n      <td>Georgia6</td>\n      <td>Georgia</td>\n      <td>2022-09-16</td>\n    </tr>\n    <tr>\n      <th>143</th>\n      <td>Georgia7</td>\n      <td>Georgia</td>\n      <td>2022-09-15</td>\n    </tr>\n  </tbody>\n</table>\n<p>144 rows × 3 columns</p>\n</div>"
     },
     "execution_count": 1070,
     "metadata": {},
     "output_type": "execute_result"
    }
   ],
   "source": [
    "req_data"
   ],
   "metadata": {
    "collapsed": false,
    "pycharm": {
     "name": "#%%\n"
    }
   }
  },
  {
   "cell_type": "code",
   "execution_count": 1072,
   "outputs": [
    {
     "data": {
      "text/plain": "Index(['Unnamed: 0', 'event_id', 'keyword', 'weight'], dtype='object')"
     },
     "execution_count": 1072,
     "metadata": {},
     "output_type": "execute_result"
    }
   ],
   "source": [
    "events_data = pd.read_csv(\"final_keywords_list.csv\")\n",
    "events_data.columns"
   ],
   "metadata": {
    "collapsed": false,
    "pycharm": {
     "name": "#%%\n"
    }
   }
  },
  {
   "cell_type": "code",
   "execution_count": 1073,
   "outputs": [
    {
     "data": {
      "text/plain": "      Unnamed: 0     event_id     keyword    weight\n0              0  Washington1      allies  0.037014\n1              1  Washington1   trafalgar  0.037211\n2              2  Washington1       sousa  0.043994\n3              3  Washington1      george  0.057846\n4              4  Washington1        spce  0.057846\n...          ...          ...         ...       ...\n5157        5157     Georgia7     traffic  0.397935\n5158        5158     Georgia7  possession  0.397935\n5159        5159     Georgia7       piece  0.397935\n5160        5160     Georgia7       spoke  0.397935\n5161        5161     Georgia7        week  0.397935\n\n[5162 rows x 4 columns]",
      "text/html": "<div>\n<style scoped>\n    .dataframe tbody tr th:only-of-type {\n        vertical-align: middle;\n    }\n\n    .dataframe tbody tr th {\n        vertical-align: top;\n    }\n\n    .dataframe thead th {\n        text-align: right;\n    }\n</style>\n<table border=\"1\" class=\"dataframe\">\n  <thead>\n    <tr style=\"text-align: right;\">\n      <th></th>\n      <th>Unnamed: 0</th>\n      <th>event_id</th>\n      <th>keyword</th>\n      <th>weight</th>\n    </tr>\n  </thead>\n  <tbody>\n    <tr>\n      <th>0</th>\n      <td>0</td>\n      <td>Washington1</td>\n      <td>allies</td>\n      <td>0.037014</td>\n    </tr>\n    <tr>\n      <th>1</th>\n      <td>1</td>\n      <td>Washington1</td>\n      <td>trafalgar</td>\n      <td>0.037211</td>\n    </tr>\n    <tr>\n      <th>2</th>\n      <td>2</td>\n      <td>Washington1</td>\n      <td>sousa</td>\n      <td>0.043994</td>\n    </tr>\n    <tr>\n      <th>3</th>\n      <td>3</td>\n      <td>Washington1</td>\n      <td>george</td>\n      <td>0.057846</td>\n    </tr>\n    <tr>\n      <th>4</th>\n      <td>4</td>\n      <td>Washington1</td>\n      <td>spce</td>\n      <td>0.057846</td>\n    </tr>\n    <tr>\n      <th>...</th>\n      <td>...</td>\n      <td>...</td>\n      <td>...</td>\n      <td>...</td>\n    </tr>\n    <tr>\n      <th>5157</th>\n      <td>5157</td>\n      <td>Georgia7</td>\n      <td>traffic</td>\n      <td>0.397935</td>\n    </tr>\n    <tr>\n      <th>5158</th>\n      <td>5158</td>\n      <td>Georgia7</td>\n      <td>possession</td>\n      <td>0.397935</td>\n    </tr>\n    <tr>\n      <th>5159</th>\n      <td>5159</td>\n      <td>Georgia7</td>\n      <td>piece</td>\n      <td>0.397935</td>\n    </tr>\n    <tr>\n      <th>5160</th>\n      <td>5160</td>\n      <td>Georgia7</td>\n      <td>spoke</td>\n      <td>0.397935</td>\n    </tr>\n    <tr>\n      <th>5161</th>\n      <td>5161</td>\n      <td>Georgia7</td>\n      <td>week</td>\n      <td>0.397935</td>\n    </tr>\n  </tbody>\n</table>\n<p>5162 rows × 4 columns</p>\n</div>"
     },
     "execution_count": 1073,
     "metadata": {},
     "output_type": "execute_result"
    }
   ],
   "source": [
    "events_data"
   ],
   "metadata": {
    "collapsed": false,
    "pycharm": {
     "name": "#%%\n"
    }
   }
  },
  {
   "cell_type": "code",
   "execution_count": 1078,
   "outputs": [],
   "source": [
    "vals = range(1, req_data.shape[0]+1)"
   ],
   "metadata": {
    "collapsed": false,
    "pycharm": {
     "name": "#%%\n"
    }
   }
  },
  {
   "cell_type": "code",
   "execution_count": 1080,
   "outputs": [
    {
     "name": "stderr",
     "output_type": "stream",
     "text": [
      "/var/folders/q9/dwl1w3xx50q3vr_byfd3mb580000gn/T/ipykernel_57459/1644377807.py:1: SettingWithCopyWarning: \n",
      "A value is trying to be set on a copy of a slice from a DataFrame.\n",
      "Try using .loc[row_indexer,col_indexer] = value instead\n",
      "\n",
      "See the caveats in the documentation: https://pandas.pydata.org/pandas-docs/stable/user_guide/indexing.html#returning-a-view-versus-a-copy\n",
      "  req_data[\"id\"] = vals\n"
     ]
    }
   ],
   "source": [
    "req_data[\"id\"] = vals"
   ],
   "metadata": {
    "collapsed": false,
    "pycharm": {
     "name": "#%%\n"
    }
   }
  },
  {
   "cell_type": "code",
   "execution_count": 1083,
   "outputs": [],
   "source": [
    "new_final_keywords = pd.merge(events_data, req_data, on=\"event_id\")"
   ],
   "metadata": {
    "collapsed": false,
    "pycharm": {
     "name": "#%%\n"
    }
   }
  },
  {
   "cell_type": "code",
   "execution_count": 1089,
   "outputs": [
    {
     "data": {
      "text/plain": "         keyword    weight    location        date   id\n0         allies  0.037014  Washington  2022-09-13    1\n1      trafalgar  0.037211  Washington  2022-09-13    1\n2          sousa  0.043994  Washington  2022-09-13    1\n3         george  0.057846  Washington  2022-09-13    1\n4           spce  0.057846  Washington  2022-09-13    1\n...          ...       ...         ...         ...  ...\n5157     traffic  0.397935     Georgia  2022-09-15  144\n5158  possession  0.397935     Georgia  2022-09-15  144\n5159       piece  0.397935     Georgia  2022-09-15  144\n5160       spoke  0.397935     Georgia  2022-09-15  144\n5161        week  0.397935     Georgia  2022-09-15  144\n\n[5162 rows x 5 columns]",
      "text/html": "<div>\n<style scoped>\n    .dataframe tbody tr th:only-of-type {\n        vertical-align: middle;\n    }\n\n    .dataframe tbody tr th {\n        vertical-align: top;\n    }\n\n    .dataframe thead th {\n        text-align: right;\n    }\n</style>\n<table border=\"1\" class=\"dataframe\">\n  <thead>\n    <tr style=\"text-align: right;\">\n      <th></th>\n      <th>keyword</th>\n      <th>weight</th>\n      <th>location</th>\n      <th>date</th>\n      <th>id</th>\n    </tr>\n  </thead>\n  <tbody>\n    <tr>\n      <th>0</th>\n      <td>allies</td>\n      <td>0.037014</td>\n      <td>Washington</td>\n      <td>2022-09-13</td>\n      <td>1</td>\n    </tr>\n    <tr>\n      <th>1</th>\n      <td>trafalgar</td>\n      <td>0.037211</td>\n      <td>Washington</td>\n      <td>2022-09-13</td>\n      <td>1</td>\n    </tr>\n    <tr>\n      <th>2</th>\n      <td>sousa</td>\n      <td>0.043994</td>\n      <td>Washington</td>\n      <td>2022-09-13</td>\n      <td>1</td>\n    </tr>\n    <tr>\n      <th>3</th>\n      <td>george</td>\n      <td>0.057846</td>\n      <td>Washington</td>\n      <td>2022-09-13</td>\n      <td>1</td>\n    </tr>\n    <tr>\n      <th>4</th>\n      <td>spce</td>\n      <td>0.057846</td>\n      <td>Washington</td>\n      <td>2022-09-13</td>\n      <td>1</td>\n    </tr>\n    <tr>\n      <th>...</th>\n      <td>...</td>\n      <td>...</td>\n      <td>...</td>\n      <td>...</td>\n      <td>...</td>\n    </tr>\n    <tr>\n      <th>5157</th>\n      <td>traffic</td>\n      <td>0.397935</td>\n      <td>Georgia</td>\n      <td>2022-09-15</td>\n      <td>144</td>\n    </tr>\n    <tr>\n      <th>5158</th>\n      <td>possession</td>\n      <td>0.397935</td>\n      <td>Georgia</td>\n      <td>2022-09-15</td>\n      <td>144</td>\n    </tr>\n    <tr>\n      <th>5159</th>\n      <td>piece</td>\n      <td>0.397935</td>\n      <td>Georgia</td>\n      <td>2022-09-15</td>\n      <td>144</td>\n    </tr>\n    <tr>\n      <th>5160</th>\n      <td>spoke</td>\n      <td>0.397935</td>\n      <td>Georgia</td>\n      <td>2022-09-15</td>\n      <td>144</td>\n    </tr>\n    <tr>\n      <th>5161</th>\n      <td>week</td>\n      <td>0.397935</td>\n      <td>Georgia</td>\n      <td>2022-09-15</td>\n      <td>144</td>\n    </tr>\n  </tbody>\n</table>\n<p>5162 rows × 5 columns</p>\n</div>"
     },
     "execution_count": 1089,
     "metadata": {},
     "output_type": "execute_result"
    }
   ],
   "source": [
    "new_final_keywords.drop([\"Unnamed: 0\", \"event_id\"], axis=1)"
   ],
   "metadata": {
    "collapsed": false,
    "pycharm": {
     "name": "#%%\n"
    }
   }
  },
  {
   "cell_type": "code",
   "execution_count": 1090,
   "outputs": [],
   "source": [
    "new_final_keywords.to_csv(\"final_keywords_list.csv\")"
   ],
   "metadata": {
    "collapsed": false,
    "pycharm": {
     "name": "#%%\n"
    }
   }
  },
  {
   "cell_type": "code",
   "execution_count": 1091,
   "outputs": [],
   "source": [
    "tweets_list = pd.read_csv(\"final_tweets_list.csv\")"
   ],
   "metadata": {
    "collapsed": false,
    "pycharm": {
     "name": "#%%\n"
    }
   }
  },
  {
   "cell_type": "code",
   "execution_count": 1093,
   "outputs": [],
   "source": [
    "tweets_list_new = pd.merge(tweets_list, req_data, on=\"event_id\")"
   ],
   "metadata": {
    "collapsed": false,
    "pycharm": {
     "name": "#%%\n"
    }
   }
  },
  {
   "cell_type": "code",
   "execution_count": 1095,
   "outputs": [
    {
     "data": {
      "text/plain": "                                                 tweets    location  \\\n0     https://t.co/KwMLUjBum9\\n\\nThree jail guards i...     Georgia   \n1     September Complaint: Voting machine testing co...     Georgia   \n2     A man accused of fatally shooting another pers...     Georgia   \n3     Oops…\\n\\nGA Tech’s defense has been okay, but ...     Georgia   \n4     Scott Frost bragged about how his new O-Line c...     Georgia   \n...                                                 ...         ...   \n2038  @Madonna I make intercessions with Heaven for ...  Washington   \n2039  Remember when Eagles coach Nick Sirianni took ...  Washington   \n2040  @SovCam @juliegreen52722 @GloryBound_info It w...  Washington   \n2041  @NWSportsfan1992 @Softykjr These polls are sup...  Washington   \n2042           Dinah Washington - September In The Rain  Washington   \n\n            date   id  \n0     2022-09-09  138  \n1     2022-09-09  138  \n2     2022-09-09  138  \n3     2022-09-09  138  \n4     2022-09-09  138  \n...          ...  ...  \n2038  2022-09-11   14  \n2039  2022-09-11   14  \n2040  2022-09-11   14  \n2041  2022-09-11   14  \n2042  2022-09-11   14  \n\n[2043 rows x 4 columns]",
      "text/html": "<div>\n<style scoped>\n    .dataframe tbody tr th:only-of-type {\n        vertical-align: middle;\n    }\n\n    .dataframe tbody tr th {\n        vertical-align: top;\n    }\n\n    .dataframe thead th {\n        text-align: right;\n    }\n</style>\n<table border=\"1\" class=\"dataframe\">\n  <thead>\n    <tr style=\"text-align: right;\">\n      <th></th>\n      <th>tweets</th>\n      <th>location</th>\n      <th>date</th>\n      <th>id</th>\n    </tr>\n  </thead>\n  <tbody>\n    <tr>\n      <th>0</th>\n      <td>https://t.co/KwMLUjBum9\\n\\nThree jail guards i...</td>\n      <td>Georgia</td>\n      <td>2022-09-09</td>\n      <td>138</td>\n    </tr>\n    <tr>\n      <th>1</th>\n      <td>September Complaint: Voting machine testing co...</td>\n      <td>Georgia</td>\n      <td>2022-09-09</td>\n      <td>138</td>\n    </tr>\n    <tr>\n      <th>2</th>\n      <td>A man accused of fatally shooting another pers...</td>\n      <td>Georgia</td>\n      <td>2022-09-09</td>\n      <td>138</td>\n    </tr>\n    <tr>\n      <th>3</th>\n      <td>Oops…\\n\\nGA Tech’s defense has been okay, but ...</td>\n      <td>Georgia</td>\n      <td>2022-09-09</td>\n      <td>138</td>\n    </tr>\n    <tr>\n      <th>4</th>\n      <td>Scott Frost bragged about how his new O-Line c...</td>\n      <td>Georgia</td>\n      <td>2022-09-09</td>\n      <td>138</td>\n    </tr>\n    <tr>\n      <th>...</th>\n      <td>...</td>\n      <td>...</td>\n      <td>...</td>\n      <td>...</td>\n    </tr>\n    <tr>\n      <th>2038</th>\n      <td>@Madonna I make intercessions with Heaven for ...</td>\n      <td>Washington</td>\n      <td>2022-09-11</td>\n      <td>14</td>\n    </tr>\n    <tr>\n      <th>2039</th>\n      <td>Remember when Eagles coach Nick Sirianni took ...</td>\n      <td>Washington</td>\n      <td>2022-09-11</td>\n      <td>14</td>\n    </tr>\n    <tr>\n      <th>2040</th>\n      <td>@SovCam @juliegreen52722 @GloryBound_info It w...</td>\n      <td>Washington</td>\n      <td>2022-09-11</td>\n      <td>14</td>\n    </tr>\n    <tr>\n      <th>2041</th>\n      <td>@NWSportsfan1992 @Softykjr These polls are sup...</td>\n      <td>Washington</td>\n      <td>2022-09-11</td>\n      <td>14</td>\n    </tr>\n    <tr>\n      <th>2042</th>\n      <td>Dinah Washington - September In The Rain</td>\n      <td>Washington</td>\n      <td>2022-09-11</td>\n      <td>14</td>\n    </tr>\n  </tbody>\n</table>\n<p>2043 rows × 4 columns</p>\n</div>"
     },
     "execution_count": 1095,
     "metadata": {},
     "output_type": "execute_result"
    }
   ],
   "source": [
    "tweets_list_new.drop([\"Unnamed: 0\", \"event_id\"], axis=1)"
   ],
   "metadata": {
    "collapsed": false,
    "pycharm": {
     "name": "#%%\n"
    }
   }
  },
  {
   "cell_type": "code",
   "execution_count": 1096,
   "outputs": [],
   "source": [
    "tweets_list_new.to_csv(\"final_tweets_list.csv\")"
   ],
   "metadata": {
    "collapsed": false,
    "pycharm": {
     "name": "#%%\n"
    }
   }
  },
  {
   "cell_type": "code",
   "execution_count": 1098,
   "outputs": [],
   "source": [
    "org_data[\"id\"] = vals"
   ],
   "metadata": {
    "collapsed": false,
    "pycharm": {
     "name": "#%%\n"
    }
   }
  },
  {
   "cell_type": "code",
   "execution_count": 1099,
   "outputs": [
    {
     "data": {
      "text/plain": "     Unnamed: 0     event_id    location        date  tweets_count  \\\n0             0  Washington1  Washington  2022-09-13            13   \n1             1  Washington2  Washington  2022-09-16            13   \n2             2  Washington3  Washington  2022-09-03             8   \n3             3  Washington4  Washington  2022-09-09            14   \n4             4  Washington5  Washington  2022-09-10            27   \n..          ...          ...         ...         ...           ...   \n139           2     Georgia3     Georgia  2022-09-10            12   \n140           3     Georgia4     Georgia  2022-09-06            13   \n141           4     Georgia5     Georgia  2022-09-13             5   \n142           5     Georgia6     Georgia  2022-09-16            14   \n143           6     Georgia7     Georgia  2022-09-15             9   \n\n                                              keywords event_sentiment  \\\n0    [('allies', 0.0370141109748817), ('trafalgar',...        Positive   \n1    [('corsi', 0.04162912505109767), ('interview',...        Negative   \n2    [('director', 0.10912854635271647), ('curiousl...        Positive   \n3    [('maryland', 0.02620209941119737), ('boulevar...        Negative   \n4    [('george', 0.04167087239681818), ('school', 0...        Positive   \n..                                                 ...             ...   \n139  [('county', 0.021428847152118378), ('camden', ...        Negative   \n140  [('county', 0.032262332786760446), ('sheriff',...        Negative   \n141  [('israeli', 0.06771232806350562), ('businessm...        Positive   \n142  [('mark', 0.06777092907666397), ('sabbath', 0....        Negative   \n143  [('year', 0.08956740615015714), ('county', 0.1...        Positive   \n\n    classification   id  \n0       historical    1  \n1       historical    2  \n2            sport    3  \n3            sport    4  \n4         business    5  \n..             ...  ...  \n139          sport  140  \n140          sport  141  \n141     historical  142  \n142     historical  143  \n143     historical  144  \n\n[144 rows x 9 columns]",
      "text/html": "<div>\n<style scoped>\n    .dataframe tbody tr th:only-of-type {\n        vertical-align: middle;\n    }\n\n    .dataframe tbody tr th {\n        vertical-align: top;\n    }\n\n    .dataframe thead th {\n        text-align: right;\n    }\n</style>\n<table border=\"1\" class=\"dataframe\">\n  <thead>\n    <tr style=\"text-align: right;\">\n      <th></th>\n      <th>Unnamed: 0</th>\n      <th>event_id</th>\n      <th>location</th>\n      <th>date</th>\n      <th>tweets_count</th>\n      <th>keywords</th>\n      <th>event_sentiment</th>\n      <th>classification</th>\n      <th>id</th>\n    </tr>\n  </thead>\n  <tbody>\n    <tr>\n      <th>0</th>\n      <td>0</td>\n      <td>Washington1</td>\n      <td>Washington</td>\n      <td>2022-09-13</td>\n      <td>13</td>\n      <td>[('allies', 0.0370141109748817), ('trafalgar',...</td>\n      <td>Positive</td>\n      <td>historical</td>\n      <td>1</td>\n    </tr>\n    <tr>\n      <th>1</th>\n      <td>1</td>\n      <td>Washington2</td>\n      <td>Washington</td>\n      <td>2022-09-16</td>\n      <td>13</td>\n      <td>[('corsi', 0.04162912505109767), ('interview',...</td>\n      <td>Negative</td>\n      <td>historical</td>\n      <td>2</td>\n    </tr>\n    <tr>\n      <th>2</th>\n      <td>2</td>\n      <td>Washington3</td>\n      <td>Washington</td>\n      <td>2022-09-03</td>\n      <td>8</td>\n      <td>[('director', 0.10912854635271647), ('curiousl...</td>\n      <td>Positive</td>\n      <td>sport</td>\n      <td>3</td>\n    </tr>\n    <tr>\n      <th>3</th>\n      <td>3</td>\n      <td>Washington4</td>\n      <td>Washington</td>\n      <td>2022-09-09</td>\n      <td>14</td>\n      <td>[('maryland', 0.02620209941119737), ('boulevar...</td>\n      <td>Negative</td>\n      <td>sport</td>\n      <td>4</td>\n    </tr>\n    <tr>\n      <th>4</th>\n      <td>4</td>\n      <td>Washington5</td>\n      <td>Washington</td>\n      <td>2022-09-10</td>\n      <td>27</td>\n      <td>[('george', 0.04167087239681818), ('school', 0...</td>\n      <td>Positive</td>\n      <td>business</td>\n      <td>5</td>\n    </tr>\n    <tr>\n      <th>...</th>\n      <td>...</td>\n      <td>...</td>\n      <td>...</td>\n      <td>...</td>\n      <td>...</td>\n      <td>...</td>\n      <td>...</td>\n      <td>...</td>\n      <td>...</td>\n    </tr>\n    <tr>\n      <th>139</th>\n      <td>2</td>\n      <td>Georgia3</td>\n      <td>Georgia</td>\n      <td>2022-09-10</td>\n      <td>12</td>\n      <td>[('county', 0.021428847152118378), ('camden', ...</td>\n      <td>Negative</td>\n      <td>sport</td>\n      <td>140</td>\n    </tr>\n    <tr>\n      <th>140</th>\n      <td>3</td>\n      <td>Georgia4</td>\n      <td>Georgia</td>\n      <td>2022-09-06</td>\n      <td>13</td>\n      <td>[('county', 0.032262332786760446), ('sheriff',...</td>\n      <td>Negative</td>\n      <td>sport</td>\n      <td>141</td>\n    </tr>\n    <tr>\n      <th>141</th>\n      <td>4</td>\n      <td>Georgia5</td>\n      <td>Georgia</td>\n      <td>2022-09-13</td>\n      <td>5</td>\n      <td>[('israeli', 0.06771232806350562), ('businessm...</td>\n      <td>Positive</td>\n      <td>historical</td>\n      <td>142</td>\n    </tr>\n    <tr>\n      <th>142</th>\n      <td>5</td>\n      <td>Georgia6</td>\n      <td>Georgia</td>\n      <td>2022-09-16</td>\n      <td>14</td>\n      <td>[('mark', 0.06777092907666397), ('sabbath', 0....</td>\n      <td>Negative</td>\n      <td>historical</td>\n      <td>143</td>\n    </tr>\n    <tr>\n      <th>143</th>\n      <td>6</td>\n      <td>Georgia7</td>\n      <td>Georgia</td>\n      <td>2022-09-15</td>\n      <td>9</td>\n      <td>[('year', 0.08956740615015714), ('county', 0.1...</td>\n      <td>Positive</td>\n      <td>historical</td>\n      <td>144</td>\n    </tr>\n  </tbody>\n</table>\n<p>144 rows × 9 columns</p>\n</div>"
     },
     "execution_count": 1099,
     "metadata": {},
     "output_type": "execute_result"
    }
   ],
   "source": [
    "org_data"
   ],
   "metadata": {
    "collapsed": false,
    "pycharm": {
     "name": "#%%\n"
    }
   }
  },
  {
   "cell_type": "code",
   "execution_count": 1103,
   "outputs": [],
   "source": [
    "org_data = org_data.drop([\"Unnamed: 0\", \"event_id\"], axis=1)"
   ],
   "metadata": {
    "collapsed": false,
    "pycharm": {
     "name": "#%%\n"
    }
   }
  },
  {
   "cell_type": "code",
   "execution_count": 1104,
   "outputs": [
    {
     "data": {
      "text/plain": "       location        date  tweets_count  \\\n0    Washington  2022-09-13            13   \n1    Washington  2022-09-16            13   \n2    Washington  2022-09-03             8   \n3    Washington  2022-09-09            14   \n4    Washington  2022-09-10            27   \n..          ...         ...           ...   \n139     Georgia  2022-09-10            12   \n140     Georgia  2022-09-06            13   \n141     Georgia  2022-09-13             5   \n142     Georgia  2022-09-16            14   \n143     Georgia  2022-09-15             9   \n\n                                              keywords event_sentiment  \\\n0    [('allies', 0.0370141109748817), ('trafalgar',...        Positive   \n1    [('corsi', 0.04162912505109767), ('interview',...        Negative   \n2    [('director', 0.10912854635271647), ('curiousl...        Positive   \n3    [('maryland', 0.02620209941119737), ('boulevar...        Negative   \n4    [('george', 0.04167087239681818), ('school', 0...        Positive   \n..                                                 ...             ...   \n139  [('county', 0.021428847152118378), ('camden', ...        Negative   \n140  [('county', 0.032262332786760446), ('sheriff',...        Negative   \n141  [('israeli', 0.06771232806350562), ('businessm...        Positive   \n142  [('mark', 0.06777092907666397), ('sabbath', 0....        Negative   \n143  [('year', 0.08956740615015714), ('county', 0.1...        Positive   \n\n    classification   id  \n0       historical    1  \n1       historical    2  \n2            sport    3  \n3            sport    4  \n4         business    5  \n..             ...  ...  \n139          sport  140  \n140          sport  141  \n141     historical  142  \n142     historical  143  \n143     historical  144  \n\n[144 rows x 7 columns]",
      "text/html": "<div>\n<style scoped>\n    .dataframe tbody tr th:only-of-type {\n        vertical-align: middle;\n    }\n\n    .dataframe tbody tr th {\n        vertical-align: top;\n    }\n\n    .dataframe thead th {\n        text-align: right;\n    }\n</style>\n<table border=\"1\" class=\"dataframe\">\n  <thead>\n    <tr style=\"text-align: right;\">\n      <th></th>\n      <th>location</th>\n      <th>date</th>\n      <th>tweets_count</th>\n      <th>keywords</th>\n      <th>event_sentiment</th>\n      <th>classification</th>\n      <th>id</th>\n    </tr>\n  </thead>\n  <tbody>\n    <tr>\n      <th>0</th>\n      <td>Washington</td>\n      <td>2022-09-13</td>\n      <td>13</td>\n      <td>[('allies', 0.0370141109748817), ('trafalgar',...</td>\n      <td>Positive</td>\n      <td>historical</td>\n      <td>1</td>\n    </tr>\n    <tr>\n      <th>1</th>\n      <td>Washington</td>\n      <td>2022-09-16</td>\n      <td>13</td>\n      <td>[('corsi', 0.04162912505109767), ('interview',...</td>\n      <td>Negative</td>\n      <td>historical</td>\n      <td>2</td>\n    </tr>\n    <tr>\n      <th>2</th>\n      <td>Washington</td>\n      <td>2022-09-03</td>\n      <td>8</td>\n      <td>[('director', 0.10912854635271647), ('curiousl...</td>\n      <td>Positive</td>\n      <td>sport</td>\n      <td>3</td>\n    </tr>\n    <tr>\n      <th>3</th>\n      <td>Washington</td>\n      <td>2022-09-09</td>\n      <td>14</td>\n      <td>[('maryland', 0.02620209941119737), ('boulevar...</td>\n      <td>Negative</td>\n      <td>sport</td>\n      <td>4</td>\n    </tr>\n    <tr>\n      <th>4</th>\n      <td>Washington</td>\n      <td>2022-09-10</td>\n      <td>27</td>\n      <td>[('george', 0.04167087239681818), ('school', 0...</td>\n      <td>Positive</td>\n      <td>business</td>\n      <td>5</td>\n    </tr>\n    <tr>\n      <th>...</th>\n      <td>...</td>\n      <td>...</td>\n      <td>...</td>\n      <td>...</td>\n      <td>...</td>\n      <td>...</td>\n      <td>...</td>\n    </tr>\n    <tr>\n      <th>139</th>\n      <td>Georgia</td>\n      <td>2022-09-10</td>\n      <td>12</td>\n      <td>[('county', 0.021428847152118378), ('camden', ...</td>\n      <td>Negative</td>\n      <td>sport</td>\n      <td>140</td>\n    </tr>\n    <tr>\n      <th>140</th>\n      <td>Georgia</td>\n      <td>2022-09-06</td>\n      <td>13</td>\n      <td>[('county', 0.032262332786760446), ('sheriff',...</td>\n      <td>Negative</td>\n      <td>sport</td>\n      <td>141</td>\n    </tr>\n    <tr>\n      <th>141</th>\n      <td>Georgia</td>\n      <td>2022-09-13</td>\n      <td>5</td>\n      <td>[('israeli', 0.06771232806350562), ('businessm...</td>\n      <td>Positive</td>\n      <td>historical</td>\n      <td>142</td>\n    </tr>\n    <tr>\n      <th>142</th>\n      <td>Georgia</td>\n      <td>2022-09-16</td>\n      <td>14</td>\n      <td>[('mark', 0.06777092907666397), ('sabbath', 0....</td>\n      <td>Negative</td>\n      <td>historical</td>\n      <td>143</td>\n    </tr>\n    <tr>\n      <th>143</th>\n      <td>Georgia</td>\n      <td>2022-09-15</td>\n      <td>9</td>\n      <td>[('year', 0.08956740615015714), ('county', 0.1...</td>\n      <td>Positive</td>\n      <td>historical</td>\n      <td>144</td>\n    </tr>\n  </tbody>\n</table>\n<p>144 rows × 7 columns</p>\n</div>"
     },
     "execution_count": 1104,
     "metadata": {},
     "output_type": "execute_result"
    }
   ],
   "source": [
    "org_data"
   ],
   "metadata": {
    "collapsed": false,
    "pycharm": {
     "name": "#%%\n"
    }
   }
  },
  {
   "cell_type": "code",
   "execution_count": 1105,
   "outputs": [],
   "source": [
    "org_data.to_csv(\"final_dataset_v1.csv\")"
   ],
   "metadata": {
    "collapsed": false,
    "pycharm": {
     "name": "#%%\n"
    }
   }
  },
  {
   "cell_type": "code",
   "execution_count": null,
   "outputs": [],
   "source": [
    "org_data\n"
   ],
   "metadata": {
    "collapsed": false,
    "pycharm": {
     "name": "#%%\n"
    }
   }
  }
 ],
 "metadata": {
  "kernelspec": {
   "display_name": "Python 3",
   "language": "python",
   "name": "python3"
  },
  "language_info": {
   "codemirror_mode": {
    "name": "ipython",
    "version": 2
   },
   "file_extension": ".py",
   "mimetype": "text/x-python",
   "name": "python",
   "nbconvert_exporter": "python",
   "pygments_lexer": "ipython2",
   "version": "2.7.6"
  }
 },
 "nbformat": 4,
 "nbformat_minor": 0
}