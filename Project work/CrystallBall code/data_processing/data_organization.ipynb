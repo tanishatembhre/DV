{
 "cells": [
  {
   "cell_type": "code",
   "execution_count": 62,
   "outputs": [],
   "source": [
    "import pandas as pd\n",
    "import numpy as np"
   ],
   "metadata": {
    "collapsed": false,
    "pycharm": {
     "name": "#%%\n"
    }
   }
  },
  {
   "cell_type": "code",
   "execution_count": null,
   "outputs": [],
   "source": [
    "import os\n",
    "path = \"processed_data/\"\n",
    "file_names = os.listdir(path)\n",
    "file_names.remove(\".DS_Store\")\n",
    "file_names"
   ],
   "metadata": {
    "collapsed": false,
    "pycharm": {
     "name": "#%%\n",
     "is_executing": true
    }
   }
  },
  {
   "cell_type": "code",
   "execution_count": 67,
   "outputs": [],
   "source": [
    "data = pd.DataFrame()\n",
    "for file in file_names:\n",
    "    file_data = pd.read_csv(f\"{path}{file}\")\n",
    "    data = data.append(file_data)"
   ],
   "metadata": {
    "collapsed": false,
    "pycharm": {
     "name": "#%%\n"
    }
   }
  },
  {
   "cell_type": "code",
   "execution_count": 68,
   "outputs": [
    {
     "data": {
      "text/plain": "          event_id       location     date  tweets_count  \\\n0   NorthCarolina1  NorthCarolina  9/13/22            18   \n1   NorthCarolina2  NorthCarolina  9/11/22            14   \n2   NorthCarolina3  NorthCarolina   9/5/22             9   \n3   NorthCarolina4  NorthCarolina   9/4/22            12   \n4   NorthCarolina5  NorthCarolina  9/14/22             9   \n..             ...            ...      ...           ...   \n2         Georgia3        Georgia  9/10/22            12   \n3         Georgia4        Georgia   9/6/22            13   \n4         Georgia5        Georgia  9/13/22             5   \n5         Georgia6        Georgia  9/16/22            14   \n6         Georgia7        Georgia  9/15/22             9   \n\n                                             keywords  \n0   [('south', 0.01070979402841466), ('game', 0.01...  \n1   [('north', 0.05163834746795769), ('game', 0.09...  \n2   [('north', 0.027033555476856694), ('connor', 0...  \n3   [('north', 0.02206249130974163), ('murdered', ...  \n4   [('magazine', 0.0670843777876901), ('charlotte...  \n..                                                ...  \n2   [('county', 0.021428847152118378), ('camden', ...  \n3   [('county', 0.032262332786760446), ('sheriff',...  \n4   [('israeli', 0.06771232806350562), ('businessm...  \n5   [('mark', 0.06777092907666397), ('sabbath', 0....  \n6   [('year', 0.08956740615015714), ('county', 0.1...  \n\n[163 rows x 5 columns]",
      "text/html": "<div>\n<style scoped>\n    .dataframe tbody tr th:only-of-type {\n        vertical-align: middle;\n    }\n\n    .dataframe tbody tr th {\n        vertical-align: top;\n    }\n\n    .dataframe thead th {\n        text-align: right;\n    }\n</style>\n<table border=\"1\" class=\"dataframe\">\n  <thead>\n    <tr style=\"text-align: right;\">\n      <th></th>\n      <th>event_id</th>\n      <th>location</th>\n      <th>date</th>\n      <th>tweets_count</th>\n      <th>keywords</th>\n    </tr>\n  </thead>\n  <tbody>\n    <tr>\n      <th>0</th>\n      <td>NorthCarolina1</td>\n      <td>NorthCarolina</td>\n      <td>9/13/22</td>\n      <td>18</td>\n      <td>[('south', 0.01070979402841466), ('game', 0.01...</td>\n    </tr>\n    <tr>\n      <th>1</th>\n      <td>NorthCarolina2</td>\n      <td>NorthCarolina</td>\n      <td>9/11/22</td>\n      <td>14</td>\n      <td>[('north', 0.05163834746795769), ('game', 0.09...</td>\n    </tr>\n    <tr>\n      <th>2</th>\n      <td>NorthCarolina3</td>\n      <td>NorthCarolina</td>\n      <td>9/5/22</td>\n      <td>9</td>\n      <td>[('north', 0.027033555476856694), ('connor', 0...</td>\n    </tr>\n    <tr>\n      <th>3</th>\n      <td>NorthCarolina4</td>\n      <td>NorthCarolina</td>\n      <td>9/4/22</td>\n      <td>12</td>\n      <td>[('north', 0.02206249130974163), ('murdered', ...</td>\n    </tr>\n    <tr>\n      <th>4</th>\n      <td>NorthCarolina5</td>\n      <td>NorthCarolina</td>\n      <td>9/14/22</td>\n      <td>9</td>\n      <td>[('magazine', 0.0670843777876901), ('charlotte...</td>\n    </tr>\n    <tr>\n      <th>...</th>\n      <td>...</td>\n      <td>...</td>\n      <td>...</td>\n      <td>...</td>\n      <td>...</td>\n    </tr>\n    <tr>\n      <th>2</th>\n      <td>Georgia3</td>\n      <td>Georgia</td>\n      <td>9/10/22</td>\n      <td>12</td>\n      <td>[('county', 0.021428847152118378), ('camden', ...</td>\n    </tr>\n    <tr>\n      <th>3</th>\n      <td>Georgia4</td>\n      <td>Georgia</td>\n      <td>9/6/22</td>\n      <td>13</td>\n      <td>[('county', 0.032262332786760446), ('sheriff',...</td>\n    </tr>\n    <tr>\n      <th>4</th>\n      <td>Georgia5</td>\n      <td>Georgia</td>\n      <td>9/13/22</td>\n      <td>5</td>\n      <td>[('israeli', 0.06771232806350562), ('businessm...</td>\n    </tr>\n    <tr>\n      <th>5</th>\n      <td>Georgia6</td>\n      <td>Georgia</td>\n      <td>9/16/22</td>\n      <td>14</td>\n      <td>[('mark', 0.06777092907666397), ('sabbath', 0....</td>\n    </tr>\n    <tr>\n      <th>6</th>\n      <td>Georgia7</td>\n      <td>Georgia</td>\n      <td>9/15/22</td>\n      <td>9</td>\n      <td>[('year', 0.08956740615015714), ('county', 0.1...</td>\n    </tr>\n  </tbody>\n</table>\n<p>163 rows × 5 columns</p>\n</div>"
     },
     "execution_count": 68,
     "metadata": {},
     "output_type": "execute_result"
    }
   ],
   "source": [
    "data"
   ],
   "metadata": {
    "collapsed": false,
    "pycharm": {
     "name": "#%%\n"
    }
   }
  },
  {
   "cell_type": "code",
   "execution_count": 69,
   "outputs": [],
   "source": [
    "data.to_csv(\"final_dataset_v1.csv\")"
   ],
   "metadata": {
    "collapsed": false,
    "pycharm": {
     "name": "#%%\n"
    }
   }
  },
  {
   "cell_type": "code",
   "execution_count": null,
   "outputs": [],
   "source": [],
   "metadata": {
    "collapsed": false,
    "pycharm": {
     "name": "#%%\n"
    }
   }
  },
  {
   "cell_type": "code",
   "execution_count": 78,
   "outputs": [],
   "source": [
    "tweets_file_names = os.listdir(\"tweets_list/\")\n",
    "tweets_file_names.remove(\".DS_Store\")"
   ],
   "metadata": {
    "collapsed": false,
    "pycharm": {
     "name": "#%%\n"
    }
   }
  },
  {
   "cell_type": "code",
   "execution_count": 82,
   "outputs": [],
   "source": [
    "tweets_df = pd.DataFrame()\n",
    "for file in tweets_file_names:\n",
    "    tweets_data = pd.read_csv(f\"tweets_list/{file}\")\n",
    "    tweets_df = tweets_df.append(tweets_data)"
   ],
   "metadata": {
    "collapsed": false,
    "pycharm": {
     "name": "#%%\n"
    }
   }
  },
  {
   "cell_type": "code",
   "execution_count": 85,
   "outputs": [],
   "source": [
    "tweets_df.to_csv(\"final_tweets_list.csv\", index=False)"
   ],
   "metadata": {
    "collapsed": false,
    "pycharm": {
     "name": "#%%\n"
    }
   }
  },
  {
   "cell_type": "code",
   "execution_count": null,
   "outputs": [],
   "source": [
    "\n"
   ],
   "metadata": {
    "collapsed": false,
    "pycharm": {
     "name": "#%%\n"
    }
   }
  },
  {
   "cell_type": "code",
   "execution_count": null,
   "outputs": [],
   "source": [],
   "metadata": {
    "collapsed": false,
    "pycharm": {
     "name": "#%%\n"
    }
   }
  },
  {
   "cell_type": "code",
   "execution_count": null,
   "outputs": [],
   "source": [],
   "metadata": {
    "collapsed": false,
    "pycharm": {
     "name": "#%%\n"
    }
   }
  },
  {
   "cell_type": "code",
   "execution_count": null,
   "outputs": [],
   "source": [],
   "metadata": {
    "collapsed": false,
    "pycharm": {
     "name": "#%%\n"
    }
   }
  },
  {
   "cell_type": "code",
   "execution_count": null,
   "outputs": [],
   "source": [],
   "metadata": {
    "collapsed": false,
    "pycharm": {
     "name": "#%%\n"
    }
   }
  },
  {
   "cell_type": "code",
   "execution_count": 86,
   "outputs": [],
   "source": [
    "#Keywords processing\n",
    "org_data = pd.read_csv(\"final_dataset_v1.csv\")\n",
    "keywords_processing = org_data[[\"event_id\", \"keywords\"]]"
   ],
   "metadata": {
    "collapsed": false,
    "pycharm": {
     "name": "#%%\n"
    }
   }
  },
  {
   "cell_type": "code",
   "execution_count": 124,
   "outputs": [],
   "source": [
    "keyword_id = []\n",
    "keyword_val = []\n",
    "keyword_wei = []\n",
    "for index, a in enumerate(keywords_processing[\"keywords\"].tolist()):\n",
    "    a = a.replace(\"[\", \"\")\n",
    "    a = a.replace(\"]\", \"\")\n",
    "    a = a.replace(\"(\", \"\")\n",
    "    a = a.replace(\")\", \"\")\n",
    "    a = a.replace(\"'\", \"\")\n",
    "    aa = a.split(\", \")\n",
    "    i = 0\n",
    "    key = keywords_processing[\"event_id\"][index]\n",
    "    while i<len(aa)-1:\n",
    "        keyword_id.append(key)\n",
    "        keyword_val.append(aa[i])\n",
    "        keyword_wei.append(aa[i+1])\n",
    "        i+=2"
   ],
   "metadata": {
    "collapsed": false,
    "pycharm": {
     "name": "#%%\n"
    }
   }
  },
  {
   "cell_type": "code",
   "execution_count": 130,
   "outputs": [],
   "source": [
    "new_keywords_df = pd.DataFrame()\n",
    "new_keywords_df[\"event_id\"] = keyword_id\n",
    "new_keywords_df[\"keyword\"] = keyword_val\n",
    "new_keywords_df[\"weight\"] = keyword_wei"
   ],
   "metadata": {
    "collapsed": false,
    "pycharm": {
     "name": "#%%\n"
    }
   }
  },
  {
   "cell_type": "code",
   "execution_count": 132,
   "outputs": [],
   "source": [
    "new_keywords_df.to_csv(\"final_keywords_list.csv\")"
   ],
   "metadata": {
    "collapsed": false,
    "pycharm": {
     "name": "#%%\n"
    }
   }
  },
  {
   "cell_type": "code",
   "execution_count": null,
   "outputs": [],
   "source": [],
   "metadata": {
    "collapsed": false,
    "pycharm": {
     "name": "#%%\n"
    }
   }
  },
  {
   "cell_type": "code",
   "execution_count": null,
   "outputs": [],
   "source": [],
   "metadata": {
    "collapsed": false,
    "pycharm": {
     "name": "#%%\n"
    }
   }
  },
  {
   "cell_type": "code",
   "execution_count": null,
   "outputs": [],
   "source": [],
   "metadata": {
    "collapsed": false,
    "pycharm": {
     "name": "#%%\n"
    }
   }
  },
  {
   "cell_type": "code",
   "execution_count": null,
   "outputs": [],
   "source": [],
   "metadata": {
    "collapsed": false,
    "pycharm": {
     "name": "#%%\n"
    }
   }
  },
  {
   "cell_type": "code",
   "execution_count": null,
   "outputs": [],
   "source": [],
   "metadata": {
    "collapsed": false,
    "pycharm": {
     "name": "#%%\n"
    }
   }
  },
  {
   "cell_type": "code",
   "execution_count": null,
   "outputs": [],
   "source": [],
   "metadata": {
    "collapsed": false,
    "pycharm": {
     "name": "#%%\n"
    }
   }
  },
  {
   "cell_type": "code",
   "execution_count": null,
   "outputs": [],
   "source": [],
   "metadata": {
    "collapsed": false,
    "pycharm": {
     "name": "#%%\n"
    }
   }
  },
  {
   "cell_type": "code",
   "execution_count": null,
   "outputs": [],
   "source": [],
   "metadata": {
    "collapsed": false,
    "pycharm": {
     "name": "#%%\n"
    }
   }
  },
  {
   "cell_type": "code",
   "execution_count": null,
   "outputs": [],
   "source": [],
   "metadata": {
    "collapsed": false,
    "pycharm": {
     "name": "#%%\n"
    }
   }
  },
  {
   "cell_type": "code",
   "execution_count": null,
   "outputs": [],
   "source": [],
   "metadata": {
    "collapsed": false,
    "pycharm": {
     "name": "#%%\n"
    }
   }
  },
  {
   "cell_type": "code",
   "execution_count": null,
   "outputs": [],
   "source": [],
   "metadata": {
    "collapsed": false,
    "pycharm": {
     "name": "#%%\n"
    }
   }
  },
  {
   "cell_type": "code",
   "execution_count": 109,
   "outputs": [],
   "source": [
    "a = keywords_processing[\"keywords\"][0]"
   ],
   "metadata": {
    "collapsed": false,
    "pycharm": {
     "name": "#%%\n"
    }
   }
  },
  {
   "cell_type": "code",
   "execution_count": 110,
   "outputs": [
    {
     "data": {
      "text/plain": "\"[('allies', 0.0370141109748817), ('trafalgar', 0.03721077110150191), ('sousa', 0.04399369818986871), ('george', 0.05784562492099588), ('spce', 0.05784562492099588), ('northern', 0.05784562492099588), ('walk', 0.05784562492099588), ('brandywine', 0.05784562492099588), ('fan', 0.07523813057581621), ('chemath', 0.07523813057581621), ('opinion', 0.07523813057581621), ('complicated', 0.07523813057581621), ('largest', 0.09969870888904847), ('smart', 0.09969870888904847), ('locomotive', 0.09969870888904847), ('differences', 0.09969870888904847), ('wheeling', 0.09969870888904847), ('pubed', 0.09969870888904847), ('virginia', 0.09969870888904847), ('kind', 0.09969870888904847), ('cross-post', 0.09969870888904847), ('entry', 0.09969870888904847), ('chinese', 0.09969870888904847), ('dhia', 0.09969870888904847), ('kamianakmalaysia', 0.09969870888904847), ('tolakperkauman', 0.09969870888904847), ('undervalued', 0.09969870888904847), ('moon', 0.09969870888904847), ('texas', 0.09969870888904847), ('nfl', 0.09969870888904847), ('pkk', 0.09969870888904847), ('seek', 0.09969870888904847), ('prisoner', 0.09969870888904847), ('full', 0.09969870888904847), ('oklahoma', 0.09969870888904847), ('joão', 0.09969870888904847), ('army', 0.09969870888904847)]\""
     },
     "execution_count": 110,
     "metadata": {},
     "output_type": "execute_result"
    }
   ],
   "source": [
    "a"
   ],
   "metadata": {
    "collapsed": false,
    "pycharm": {
     "name": "#%%\n"
    }
   }
  },
  {
   "cell_type": "code",
   "execution_count": 111,
   "outputs": [
    {
     "data": {
      "text/plain": "['allies',\n '0.0370141109748817',\n 'trafalgar',\n '0.03721077110150191',\n 'sousa',\n '0.04399369818986871',\n 'george',\n '0.05784562492099588',\n 'spce',\n '0.05784562492099588',\n 'northern',\n '0.05784562492099588',\n 'walk',\n '0.05784562492099588',\n 'brandywine',\n '0.05784562492099588',\n 'fan',\n '0.07523813057581621',\n 'chemath',\n '0.07523813057581621',\n 'opinion',\n '0.07523813057581621',\n 'complicated',\n '0.07523813057581621',\n 'largest',\n '0.09969870888904847',\n 'smart',\n '0.09969870888904847',\n 'locomotive',\n '0.09969870888904847',\n 'differences',\n '0.09969870888904847',\n 'wheeling',\n '0.09969870888904847',\n 'pubed',\n '0.09969870888904847',\n 'virginia',\n '0.09969870888904847',\n 'kind',\n '0.09969870888904847',\n 'cross-post',\n '0.09969870888904847',\n 'entry',\n '0.09969870888904847',\n 'chinese',\n '0.09969870888904847',\n 'dhia',\n '0.09969870888904847',\n 'kamianakmalaysia',\n '0.09969870888904847',\n 'tolakperkauman',\n '0.09969870888904847',\n 'undervalued',\n '0.09969870888904847',\n 'moon',\n '0.09969870888904847',\n 'texas',\n '0.09969870888904847',\n 'nfl',\n '0.09969870888904847',\n 'pkk',\n '0.09969870888904847',\n 'seek',\n '0.09969870888904847',\n 'prisoner',\n '0.09969870888904847',\n 'full',\n '0.09969870888904847',\n 'oklahoma',\n '0.09969870888904847',\n 'joão',\n '0.09969870888904847',\n 'army',\n '0.09969870888904847']"
     },
     "execution_count": 111,
     "metadata": {},
     "output_type": "execute_result"
    }
   ],
   "source": [
    "a = a.replace(\"[\", \"\")\n",
    "a = a.replace(\"]\", \"\")\n",
    "a = a.replace(\"(\", \"\")\n",
    "a = a.replace(\")\", \"\")\n",
    "a = a.replace(\"'\", \"\")\n",
    "aa = a.split(\", \")\n",
    "aa"
   ],
   "metadata": {
    "collapsed": false,
    "pycharm": {
     "name": "#%%\n"
    }
   }
  },
  {
   "cell_type": "code",
   "execution_count": 119,
   "outputs": [],
   "source": [
    "# a = a.split(\", \")\n",
    "m = {}\n",
    "i = 0\n",
    "while i<len(aa)-1:\n",
    "    m[aa[i]] = float(aa[i+1])\n",
    "    i+=2"
   ],
   "metadata": {
    "collapsed": false,
    "pycharm": {
     "name": "#%%\n"
    }
   }
  },
  {
   "cell_type": "code",
   "execution_count": 122,
   "outputs": [
    {
     "data": {
      "text/plain": "dict_values([0.0370141109748817, 0.03721077110150191, 0.04399369818986871, 0.05784562492099588, 0.05784562492099588, 0.05784562492099588, 0.05784562492099588, 0.05784562492099588, 0.07523813057581621, 0.07523813057581621, 0.07523813057581621, 0.07523813057581621, 0.09969870888904847, 0.09969870888904847, 0.09969870888904847, 0.09969870888904847, 0.09969870888904847, 0.09969870888904847, 0.09969870888904847, 0.09969870888904847, 0.09969870888904847, 0.09969870888904847, 0.09969870888904847, 0.09969870888904847, 0.09969870888904847, 0.09969870888904847, 0.09969870888904847, 0.09969870888904847, 0.09969870888904847, 0.09969870888904847, 0.09969870888904847, 0.09969870888904847, 0.09969870888904847, 0.09969870888904847, 0.09969870888904847, 0.09969870888904847, 0.09969870888904847])"
     },
     "execution_count": 122,
     "metadata": {},
     "output_type": "execute_result"
    }
   ],
   "source": [],
   "metadata": {
    "collapsed": false,
    "pycharm": {
     "name": "#%%\n"
    }
   }
  },
  {
   "cell_type": "code",
   "execution_count": null,
   "outputs": [],
   "source": [],
   "metadata": {
    "collapsed": false,
    "pycharm": {
     "name": "#%%\n"
    }
   }
  },
  {
   "cell_type": "code",
   "execution_count": null,
   "outputs": [],
   "source": [],
   "metadata": {
    "collapsed": false,
    "pycharm": {
     "name": "#%%\n"
    }
   }
  },
  {
   "cell_type": "code",
   "execution_count": null,
   "outputs": [],
   "source": [],
   "metadata": {
    "collapsed": false,
    "pycharm": {
     "name": "#%%\n"
    }
   }
  },
  {
   "cell_type": "code",
   "execution_count": null,
   "outputs": [],
   "source": [],
   "metadata": {
    "collapsed": false,
    "pycharm": {
     "name": "#%%\n"
    }
   }
  },
  {
   "cell_type": "code",
   "execution_count": null,
   "outputs": [],
   "source": [],
   "metadata": {
    "collapsed": false,
    "pycharm": {
     "name": "#%%\n"
    }
   }
  },
  {
   "cell_type": "code",
   "execution_count": null,
   "outputs": [],
   "source": [],
   "metadata": {
    "collapsed": false,
    "pycharm": {
     "name": "#%%\n"
    }
   }
  },
  {
   "cell_type": "code",
   "execution_count": null,
   "outputs": [],
   "source": [],
   "metadata": {
    "collapsed": false,
    "pycharm": {
     "name": "#%%\n"
    }
   }
  },
  {
   "cell_type": "code",
   "execution_count": 14,
   "outputs": [],
   "source": [
    "# event_id = []\n",
    "# for each in range(len(data[\"event_id\"])):\n",
    "#     event_id.append(f\"E{each+1}\")"
   ],
   "metadata": {
    "collapsed": false,
    "pycharm": {
     "name": "#%%\n"
    }
   }
  },
  {
   "cell_type": "code",
   "execution_count": 16,
   "outputs": [],
   "source": [
    "# data[\"event_id\"] = event_id"
   ],
   "metadata": {
    "collapsed": false,
    "pycharm": {
     "name": "#%%\n"
    }
   }
  },
  {
   "cell_type": "code",
   "execution_count": 34,
   "outputs": [],
   "source": [
    "# tweets = pd.DataFrame()\n",
    "# tweets[\"event_id\"] = data[\"event_id\"].tolist()\n",
    "# tweets[\"tweets_list\"] = data[\"tweets_list\"].to_list()"
   ],
   "metadata": {
    "collapsed": false,
    "pycharm": {
     "name": "#%%\n"
    }
   }
  },
  {
   "cell_type": "code",
   "execution_count": 70,
   "outputs": [],
   "source": [
    "# tweets"
   ],
   "metadata": {
    "collapsed": false,
    "pycharm": {
     "name": "#%%\n"
    }
   }
  },
  {
   "cell_type": "code",
   "execution_count": 72,
   "outputs": [],
   "source": [
    "# tweet_event_id = []\n",
    "# tweet = []\n",
    "# for index, each in enumerate(tweets[\"tweets_list\"].tolist()):\n",
    "#     tweet_temp = each.strip('][').split(', ')\n",
    "#     tweet += tweet_temp\n",
    "#     tweet_event_id += [tweets[\"event_id\"][index]] * len(tweet_temp)"
   ],
   "metadata": {
    "collapsed": false,
    "pycharm": {
     "name": "#%%\n"
    }
   }
  },
  {
   "cell_type": "code",
   "execution_count": 72,
   "outputs": [],
   "source": [],
   "metadata": {
    "collapsed": false,
    "pycharm": {
     "name": "#%%\n"
    }
   }
  },
  {
   "cell_type": "code",
   "execution_count": 59,
   "outputs": [],
   "source": [
    "# final_df_tweets = pd.DataFrame()\n",
    "# final_df_tweets[\"event_id\"] = tweet_event_id\n",
    "# final_df_tweets[\"tweets\"] = tweet"
   ],
   "metadata": {
    "collapsed": false,
    "pycharm": {
     "name": "#%%\n"
    }
   }
  },
  {
   "cell_type": "code",
   "execution_count": 73,
   "outputs": [],
   "source": [
    "# final_df_tweets"
   ],
   "metadata": {
    "collapsed": false,
    "pycharm": {
     "name": "#%%\n"
    }
   }
  },
  {
   "cell_type": "code",
   "execution_count": 73,
   "outputs": [],
   "source": [],
   "metadata": {
    "collapsed": false,
    "pycharm": {
     "name": "#%%\n"
    }
   }
  },
  {
   "cell_type": "code",
   "execution_count": null,
   "outputs": [],
   "source": [],
   "metadata": {
    "collapsed": false,
    "pycharm": {
     "name": "#%%\n"
    }
   }
  }
 ],
 "metadata": {
  "kernelspec": {
   "display_name": "Python 3",
   "language": "python",
   "name": "python3"
  },
  "language_info": {
   "codemirror_mode": {
    "name": "ipython",
    "version": 2
   },
   "file_extension": ".py",
   "mimetype": "text/x-python",
   "name": "python",
   "nbconvert_exporter": "python",
   "pygments_lexer": "ipython2",
   "version": "2.7.6"
  }
 },
 "nbformat": 4,
 "nbformat_minor": 0
}