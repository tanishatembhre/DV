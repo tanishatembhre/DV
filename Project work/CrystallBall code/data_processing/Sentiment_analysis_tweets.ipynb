{
 "cells": [
  {
   "cell_type": "code",
   "execution_count": 1,
   "outputs": [
    {
     "name": "stdout",
     "output_type": "stream",
     "text": [
      "Collecting vaderSentiment\r\n",
      "  Downloading vaderSentiment-3.3.2-py2.py3-none-any.whl (125 kB)\r\n",
      "\u001B[K     |████████████████████████████████| 125 kB 2.6 MB/s eta 0:00:01\r\n",
      "\u001B[?25hRequirement already satisfied: requests in /Users/bharathkumar/.conda/envs/Deep-Learning-BharathKumar-Bandaru/lib/python3.8/site-packages (from vaderSentiment) (2.27.1)\r\n",
      "Requirement already satisfied: certifi>=2017.4.17 in /Users/bharathkumar/.conda/envs/Deep-Learning-BharathKumar-Bandaru/lib/python3.8/site-packages (from requests->vaderSentiment) (2022.9.24)\r\n",
      "Requirement already satisfied: urllib3<1.27,>=1.21.1 in /Users/bharathkumar/.conda/envs/Deep-Learning-BharathKumar-Bandaru/lib/python3.8/site-packages (from requests->vaderSentiment) (1.26.9)\r\n",
      "Requirement already satisfied: charset-normalizer~=2.0.0 in /Users/bharathkumar/.conda/envs/Deep-Learning-BharathKumar-Bandaru/lib/python3.8/site-packages (from requests->vaderSentiment) (2.0.4)\r\n",
      "Requirement already satisfied: idna<4,>=2.5 in /Users/bharathkumar/.conda/envs/Deep-Learning-BharathKumar-Bandaru/lib/python3.8/site-packages (from requests->vaderSentiment) (3.3)\r\n",
      "Installing collected packages: vaderSentiment\r\n",
      "Successfully installed vaderSentiment-3.3.2\r\n"
     ]
    }
   ],
   "source": [
    "import pandas as pd\n",
    "!pip install vaderSentiment"
   ],
   "metadata": {
    "collapsed": false,
    "pycharm": {
     "name": "#%%\n"
    }
   }
  },
  {
   "cell_type": "code",
   "execution_count": 2,
   "outputs": [],
   "source": [
    "#import the library\n",
    "from vaderSentiment.vaderSentiment import SentimentIntensityAnalyzer\n",
    "\n",
    "#calculate the negative, positive, neutral and compound scores, plus verbal evaluation\n",
    "def sentiment_vader(sentence):\n",
    "\n",
    "    # Create a SentimentIntensityAnalyzer object.\n",
    "    sid_obj = SentimentIntensityAnalyzer()\n",
    "\n",
    "    sentiment_dict = sid_obj.polarity_scores(sentence)\n",
    "    negative = sentiment_dict['neg']\n",
    "    neutral = sentiment_dict['neu']\n",
    "    positive = sentiment_dict['pos']\n",
    "    compound = sentiment_dict['compound']\n",
    "\n",
    "    if sentiment_dict['compound'] >= 0.05 :\n",
    "        overall_sentiment = \"Positive\"\n",
    "\n",
    "    elif sentiment_dict['compound'] <= - 0.05 :\n",
    "        overall_sentiment = \"Negative\"\n",
    "\n",
    "    else :\n",
    "        overall_sentiment = \"Neutral\"\n",
    "\n",
    "    return negative, neutral, positive, compound, overall_sentiment"
   ],
   "metadata": {
    "collapsed": false,
    "pycharm": {
     "name": "#%%\n"
    }
   }
  },
  {
   "cell_type": "code",
   "execution_count": 72,
   "outputs": [],
   "source": [
    "import pandas as pd\n",
    "data = pd.read_csv(\"final_tweets_list.csv\")"
   ],
   "metadata": {
    "collapsed": false,
    "pycharm": {
     "name": "#%%\n"
    }
   }
  },
  {
   "cell_type": "code",
   "execution_count": 17,
   "outputs": [],
   "source": [
    "sentiment = []\n",
    "for each in data[\"tweets\"].tolist():\n",
    "    negative, neutral, positive, compound, overall_sentiment = sentiment_vader(each)\n",
    "    sentiment.append(overall_sentiment)"
   ],
   "metadata": {
    "collapsed": false,
    "pycharm": {
     "name": "#%%\n"
    }
   }
  },
  {
   "cell_type": "code",
   "execution_count": 73,
   "outputs": [],
   "source": [
    "data[\"sentiment\"] = sentiment"
   ],
   "metadata": {
    "collapsed": false,
    "pycharm": {
     "name": "#%%\n"
    }
   }
  },
  {
   "cell_type": "code",
   "execution_count": 74,
   "outputs": [
    {
     "data": {
      "text/plain": "      Unnamed: 0      event_id  \\\n0              0      Georgia1   \n1              1      Georgia1   \n2              2      Georgia1   \n3              3      Georgia1   \n4              4      Georgia1   \n...          ...           ...   \n2235         179  Washington14   \n2236         180  Washington14   \n2237         181  Washington14   \n2238         182  Washington14   \n2239         183  Washington14   \n\n                                                 tweets sentiment  \n0     https://t.co/KwMLUjBum9\\n\\nThree jail guards i...  Negative  \n1     September Complaint: Voting machine testing co...  Negative  \n2     A man accused of fatally shooting another pers...  Negative  \n3     Oops…\\n\\nGA Tech’s defense has been okay, but ...   Neutral  \n4     Scott Frost bragged about how his new O-Line c...  Negative  \n...                                                 ...       ...  \n2235  @Madonna I make intercessions with Heaven for ...  Positive  \n2236  Remember when Eagles coach Nick Sirianni took ...  Positive  \n2237  @SovCam @juliegreen52722 @GloryBound_info It w...   Neutral  \n2238  @NWSportsfan1992 @Softykjr These polls are sup...  Negative  \n2239           Dinah Washington - September In The Rain   Neutral  \n\n[2240 rows x 4 columns]",
      "text/html": "<div>\n<style scoped>\n    .dataframe tbody tr th:only-of-type {\n        vertical-align: middle;\n    }\n\n    .dataframe tbody tr th {\n        vertical-align: top;\n    }\n\n    .dataframe thead th {\n        text-align: right;\n    }\n</style>\n<table border=\"1\" class=\"dataframe\">\n  <thead>\n    <tr style=\"text-align: right;\">\n      <th></th>\n      <th>Unnamed: 0</th>\n      <th>event_id</th>\n      <th>tweets</th>\n      <th>sentiment</th>\n    </tr>\n  </thead>\n  <tbody>\n    <tr>\n      <th>0</th>\n      <td>0</td>\n      <td>Georgia1</td>\n      <td>https://t.co/KwMLUjBum9\\n\\nThree jail guards i...</td>\n      <td>Negative</td>\n    </tr>\n    <tr>\n      <th>1</th>\n      <td>1</td>\n      <td>Georgia1</td>\n      <td>September Complaint: Voting machine testing co...</td>\n      <td>Negative</td>\n    </tr>\n    <tr>\n      <th>2</th>\n      <td>2</td>\n      <td>Georgia1</td>\n      <td>A man accused of fatally shooting another pers...</td>\n      <td>Negative</td>\n    </tr>\n    <tr>\n      <th>3</th>\n      <td>3</td>\n      <td>Georgia1</td>\n      <td>Oops…\\n\\nGA Tech’s defense has been okay, but ...</td>\n      <td>Neutral</td>\n    </tr>\n    <tr>\n      <th>4</th>\n      <td>4</td>\n      <td>Georgia1</td>\n      <td>Scott Frost bragged about how his new O-Line c...</td>\n      <td>Negative</td>\n    </tr>\n    <tr>\n      <th>...</th>\n      <td>...</td>\n      <td>...</td>\n      <td>...</td>\n      <td>...</td>\n    </tr>\n    <tr>\n      <th>2235</th>\n      <td>179</td>\n      <td>Washington14</td>\n      <td>@Madonna I make intercessions with Heaven for ...</td>\n      <td>Positive</td>\n    </tr>\n    <tr>\n      <th>2236</th>\n      <td>180</td>\n      <td>Washington14</td>\n      <td>Remember when Eagles coach Nick Sirianni took ...</td>\n      <td>Positive</td>\n    </tr>\n    <tr>\n      <th>2237</th>\n      <td>181</td>\n      <td>Washington14</td>\n      <td>@SovCam @juliegreen52722 @GloryBound_info It w...</td>\n      <td>Neutral</td>\n    </tr>\n    <tr>\n      <th>2238</th>\n      <td>182</td>\n      <td>Washington14</td>\n      <td>@NWSportsfan1992 @Softykjr These polls are sup...</td>\n      <td>Negative</td>\n    </tr>\n    <tr>\n      <th>2239</th>\n      <td>183</td>\n      <td>Washington14</td>\n      <td>Dinah Washington - September In The Rain</td>\n      <td>Neutral</td>\n    </tr>\n  </tbody>\n</table>\n<p>2240 rows × 4 columns</p>\n</div>"
     },
     "execution_count": 74,
     "metadata": {},
     "output_type": "execute_result"
    }
   ],
   "source": [
    "data"
   ],
   "metadata": {
    "collapsed": false,
    "pycharm": {
     "name": "#%%\n"
    }
   }
  },
  {
   "cell_type": "code",
   "execution_count": 95,
   "outputs": [],
   "source": [
    "new_df = data.groupby('event_id', group_keys=True)[\"sentiment\"].apply(list)"
   ],
   "metadata": {
    "collapsed": false,
    "pycharm": {
     "name": "#%%\n"
    }
   }
  },
  {
   "cell_type": "code",
   "execution_count": 101,
   "outputs": [
    {
     "data": {
      "text/plain": "event_id\nBoston1      [Positive, Negative, Positive, Positive, Posit...\nBoston2      [Neutral, Neutral, Positive, Positive, Positiv...\nBoston3      [Positive, Positive, Positive, Neutral, Neutra...\nBoston4      [Positive, Neutral, Neutral, Negative, Positiv...\nBoston5                          [Positive, Neutral, Negative]\n                                   ...                        \nillinois5    [Negative, Positive, Neutral, Neutral, Positiv...\nillinois6    [Neutral, Positive, Positive, Negative, Positi...\nillinois7    [Positive, Negative, Positive, Positive, Posit...\nillinois8    [Neutral, Negative, Negative, Neutral, Negativ...\nillinois9    [Positive, Positive, Negative, Positive, Posit...\nName: sentiment, Length: 163, dtype: object"
     },
     "execution_count": 101,
     "metadata": {},
     "output_type": "execute_result"
    }
   ],
   "source": [
    "new_df"
   ],
   "metadata": {
    "collapsed": false,
    "pycharm": {
     "name": "#%%\n"
    }
   }
  },
  {
   "cell_type": "code",
   "execution_count": 98,
   "outputs": [],
   "source": [
    "max_val = []\n",
    "keys = []\n",
    "for key in new_df.keys():\n",
    "    vals = new_df.get(key)\n",
    "    keys.append(key)\n",
    "    max_val.append(max(vals, key=vals.count))"
   ],
   "metadata": {
    "collapsed": false,
    "pycharm": {
     "name": "#%%\n"
    }
   }
  },
  {
   "cell_type": "code",
   "execution_count": 104,
   "outputs": [],
   "source": [
    "final_sent = pd.DataFrame()\n",
    "final_sent[\"event_id\"] = keys\n",
    "final_sent[\"event_sentiment\"] = max_val"
   ],
   "metadata": {
    "collapsed": false,
    "pycharm": {
     "name": "#%%\n"
    }
   }
  },
  {
   "cell_type": "code",
   "execution_count": 105,
   "outputs": [
    {
     "data": {
      "text/plain": "      event_id event_sentiment\n0      Boston1        Positive\n1      Boston2        Positive\n2      Boston3        Positive\n3      Boston4        Positive\n4      Boston5        Positive\n..         ...             ...\n158  illinois5        Negative\n159  illinois6        Positive\n160  illinois7        Positive\n161  illinois8        Negative\n162  illinois9        Positive\n\n[163 rows x 2 columns]",
      "text/html": "<div>\n<style scoped>\n    .dataframe tbody tr th:only-of-type {\n        vertical-align: middle;\n    }\n\n    .dataframe tbody tr th {\n        vertical-align: top;\n    }\n\n    .dataframe thead th {\n        text-align: right;\n    }\n</style>\n<table border=\"1\" class=\"dataframe\">\n  <thead>\n    <tr style=\"text-align: right;\">\n      <th></th>\n      <th>event_id</th>\n      <th>event_sentiment</th>\n    </tr>\n  </thead>\n  <tbody>\n    <tr>\n      <th>0</th>\n      <td>Boston1</td>\n      <td>Positive</td>\n    </tr>\n    <tr>\n      <th>1</th>\n      <td>Boston2</td>\n      <td>Positive</td>\n    </tr>\n    <tr>\n      <th>2</th>\n      <td>Boston3</td>\n      <td>Positive</td>\n    </tr>\n    <tr>\n      <th>3</th>\n      <td>Boston4</td>\n      <td>Positive</td>\n    </tr>\n    <tr>\n      <th>4</th>\n      <td>Boston5</td>\n      <td>Positive</td>\n    </tr>\n    <tr>\n      <th>...</th>\n      <td>...</td>\n      <td>...</td>\n    </tr>\n    <tr>\n      <th>158</th>\n      <td>illinois5</td>\n      <td>Negative</td>\n    </tr>\n    <tr>\n      <th>159</th>\n      <td>illinois6</td>\n      <td>Positive</td>\n    </tr>\n    <tr>\n      <th>160</th>\n      <td>illinois7</td>\n      <td>Positive</td>\n    </tr>\n    <tr>\n      <th>161</th>\n      <td>illinois8</td>\n      <td>Negative</td>\n    </tr>\n    <tr>\n      <th>162</th>\n      <td>illinois9</td>\n      <td>Positive</td>\n    </tr>\n  </tbody>\n</table>\n<p>163 rows × 2 columns</p>\n</div>"
     },
     "execution_count": 105,
     "metadata": {},
     "output_type": "execute_result"
    }
   ],
   "source": [
    "#new_df[\"overall_sentiment\"] = max_val\n",
    "final_sent"
   ],
   "metadata": {
    "collapsed": false,
    "pycharm": {
     "name": "#%%\n"
    }
   }
  },
  {
   "cell_type": "code",
   "execution_count": 107,
   "outputs": [],
   "source": [
    "org_data = pd.read_csv(\"final_dataset_v1.csv\")"
   ],
   "metadata": {
    "collapsed": false,
    "pycharm": {
     "name": "#%%\n"
    }
   }
  },
  {
   "cell_type": "code",
   "execution_count": 108,
   "outputs": [],
   "source": [
    "final_data_df = pd.merge(org_data, final_sent, on=\"event_id\")"
   ],
   "metadata": {
    "collapsed": false,
    "pycharm": {
     "name": "#%%\n"
    }
   }
  },
  {
   "cell_type": "code",
   "execution_count": 111,
   "outputs": [],
   "source": [
    "final_data_df.to_csv(\"final_dataset_v1.csv\", index=False)"
   ],
   "metadata": {
    "collapsed": false,
    "pycharm": {
     "name": "#%%\n"
    }
   }
  },
  {
   "cell_type": "code",
   "execution_count": null,
   "outputs": [],
   "source": [],
   "metadata": {
    "collapsed": false,
    "pycharm": {
     "name": "#%%\n"
    }
   }
  },
  {
   "cell_type": "code",
   "execution_count": null,
   "outputs": [],
   "source": [],
   "metadata": {
    "collapsed": false,
    "pycharm": {
     "name": "#%%\n"
    }
   }
  }
 ],
 "metadata": {
  "kernelspec": {
   "display_name": "Python 3",
   "language": "python",
   "name": "python3"
  },
  "language_info": {
   "codemirror_mode": {
    "name": "ipython",
    "version": 2
   },
   "file_extension": ".py",
   "mimetype": "text/x-python",
   "name": "python",
   "nbconvert_exporter": "python",
   "pygments_lexer": "ipython2",
   "version": "2.7.6"
  }
 },
 "nbformat": 4,
 "nbformat_minor": 0
}