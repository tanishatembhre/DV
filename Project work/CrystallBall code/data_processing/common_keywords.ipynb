{
 "cells": [
  {
   "cell_type": "code",
   "execution_count": 1,
   "outputs": [],
   "source": [
    "import pandas as pd\n",
    "import numpy as np"
   ],
   "metadata": {
    "collapsed": false,
    "pycharm": {
     "name": "#%%\n"
    }
   }
  },
  {
   "cell_type": "code",
   "execution_count": 6,
   "outputs": [
    {
     "data": {
      "text/plain": "      Unnamed: 0  event_id     keyword    weight    location        date\n0              0         1      allies  0.037014  Washington  09-13-2022\n1              1         1   trafalgar  0.037211  Washington  09-13-2022\n2              2         1       sousa  0.043994  Washington  09-13-2022\n3              3         1      george  0.057846  Washington  09-13-2022\n4              4         1        spce  0.057846  Washington  09-13-2022\n...          ...       ...         ...       ...         ...         ...\n5157        5157       144     traffic  0.397935     Georgia  09-15-2022\n5158        5158       144  possession  0.397935     Georgia  09-15-2022\n5159        5159       144       piece  0.397935     Georgia  09-15-2022\n5160        5160       144       spoke  0.397935     Georgia  09-15-2022\n5161        5161       144        week  0.397935     Georgia  09-15-2022\n\n[5162 rows x 6 columns]",
      "text/html": "<div>\n<style scoped>\n    .dataframe tbody tr th:only-of-type {\n        vertical-align: middle;\n    }\n\n    .dataframe tbody tr th {\n        vertical-align: top;\n    }\n\n    .dataframe thead th {\n        text-align: right;\n    }\n</style>\n<table border=\"1\" class=\"dataframe\">\n  <thead>\n    <tr style=\"text-align: right;\">\n      <th></th>\n      <th>Unnamed: 0</th>\n      <th>event_id</th>\n      <th>keyword</th>\n      <th>weight</th>\n      <th>location</th>\n      <th>date</th>\n    </tr>\n  </thead>\n  <tbody>\n    <tr>\n      <th>0</th>\n      <td>0</td>\n      <td>1</td>\n      <td>allies</td>\n      <td>0.037014</td>\n      <td>Washington</td>\n      <td>09-13-2022</td>\n    </tr>\n    <tr>\n      <th>1</th>\n      <td>1</td>\n      <td>1</td>\n      <td>trafalgar</td>\n      <td>0.037211</td>\n      <td>Washington</td>\n      <td>09-13-2022</td>\n    </tr>\n    <tr>\n      <th>2</th>\n      <td>2</td>\n      <td>1</td>\n      <td>sousa</td>\n      <td>0.043994</td>\n      <td>Washington</td>\n      <td>09-13-2022</td>\n    </tr>\n    <tr>\n      <th>3</th>\n      <td>3</td>\n      <td>1</td>\n      <td>george</td>\n      <td>0.057846</td>\n      <td>Washington</td>\n      <td>09-13-2022</td>\n    </tr>\n    <tr>\n      <th>4</th>\n      <td>4</td>\n      <td>1</td>\n      <td>spce</td>\n      <td>0.057846</td>\n      <td>Washington</td>\n      <td>09-13-2022</td>\n    </tr>\n    <tr>\n      <th>...</th>\n      <td>...</td>\n      <td>...</td>\n      <td>...</td>\n      <td>...</td>\n      <td>...</td>\n      <td>...</td>\n    </tr>\n    <tr>\n      <th>5157</th>\n      <td>5157</td>\n      <td>144</td>\n      <td>traffic</td>\n      <td>0.397935</td>\n      <td>Georgia</td>\n      <td>09-15-2022</td>\n    </tr>\n    <tr>\n      <th>5158</th>\n      <td>5158</td>\n      <td>144</td>\n      <td>possession</td>\n      <td>0.397935</td>\n      <td>Georgia</td>\n      <td>09-15-2022</td>\n    </tr>\n    <tr>\n      <th>5159</th>\n      <td>5159</td>\n      <td>144</td>\n      <td>piece</td>\n      <td>0.397935</td>\n      <td>Georgia</td>\n      <td>09-15-2022</td>\n    </tr>\n    <tr>\n      <th>5160</th>\n      <td>5160</td>\n      <td>144</td>\n      <td>spoke</td>\n      <td>0.397935</td>\n      <td>Georgia</td>\n      <td>09-15-2022</td>\n    </tr>\n    <tr>\n      <th>5161</th>\n      <td>5161</td>\n      <td>144</td>\n      <td>week</td>\n      <td>0.397935</td>\n      <td>Georgia</td>\n      <td>09-15-2022</td>\n    </tr>\n  </tbody>\n</table>\n<p>5162 rows × 6 columns</p>\n</div>"
     },
     "execution_count": 6,
     "metadata": {},
     "output_type": "execute_result"
    }
   ],
   "source": [
    "keywords = pd.read_csv(\"final_keywords_list.csv\")\n",
    "keywords"
   ],
   "metadata": {
    "collapsed": false,
    "pycharm": {
     "name": "#%%\n"
    }
   }
  },
  {
   "cell_type": "code",
   "execution_count": 8,
   "outputs": [],
   "source": [
    "new_df = keywords[[\"event_id\", \"keyword\"]]\n"
   ],
   "metadata": {
    "collapsed": false,
    "pycharm": {
     "name": "#%%\n"
    }
   }
  },
  {
   "cell_type": "code",
   "execution_count": 14,
   "outputs": [
    {
     "data": {
      "text/plain": "event_id\n1      {entry, prisoner, tolakperkauman, moon, spce, ...\n2      {unpicphotography, rosario, delivered, appeals...\n3      {society, akintimehin, maryland, asked, police...\n4      {mentally, fema, bodine, records, maryland, ci...\n5      {high, passenger, parkway, city, dave, george,...\n                             ...                        \n140    {respect, high, drug, accused, georgiarealtor,...\n141    {white-collar, ongoing, award, businesses, bru...\n142    {chance, public, arizona, urged, lsu, kyrsten,...\n143    {moldova, players, kicks, research, hit, inter...\n144    {brutally, fortitude, ago, colorado, criminal,...\nName: keyword, Length: 144, dtype: object"
     },
     "execution_count": 14,
     "metadata": {},
     "output_type": "execute_result"
    }
   ],
   "source": [
    "df = new_df.groupby('event_id')[\"keyword\"].apply(set)\n",
    "df"
   ],
   "metadata": {
    "collapsed": false,
    "pycharm": {
     "name": "#%%\n"
    }
   }
  },
  {
   "cell_type": "code",
   "execution_count": 15,
   "outputs": [],
   "source": [
    "keyword_id = range(1, df.shape[0])"
   ],
   "metadata": {
    "collapsed": false,
    "pycharm": {
     "name": "#%%\n"
    }
   }
  },
  {
   "cell_type": "code",
   "execution_count": 23,
   "outputs": [],
   "source": [
    "added = set()\n",
    "keyword_event_id = {}\n",
    "keyword_events = {}\n",
    "for index,id in enumerate(df.keys().tolist()):\n",
    "    if id in added:\n",
    "        continue\n",
    "    added.add(id)\n",
    "    if id not in keyword_event_id:\n",
    "        keyword_event_id[id] = [id]\n",
    "        keyword_events[id] = df.get(id)\n",
    "    curr_keyword_events = keyword_events[id]\n",
    "    for ind, idd in enumerate(df.keys().tolist()[index+1:]):\n",
    "        if(idd in added):\n",
    "            continue\n",
    "        new_keyword_events = df.get(idd)\n",
    "        if len(curr_keyword_events.intersection(new_keyword_events)) >= 5:\n",
    "            keyword_event_id[id].append(idd)\n",
    "            keyword_events[id] = curr_keyword_events.intersection(new_keyword_events)\n",
    "            new_keyword_events = curr_keyword_events.intersection(new_keyword_events)\n",
    "            added.add(idd)\n",
    "\n"
   ],
   "metadata": {
    "collapsed": false,
    "pycharm": {
     "name": "#%%\n"
    }
   }
  },
  {
   "cell_type": "code",
   "execution_count": 29,
   "outputs": [],
   "source": [
    "new_dict = []\n",
    "for key, val in keyword_event_id.items():\n",
    "    if len(val) > 1:\n",
    "        new_dict.append(key)"
   ],
   "metadata": {
    "collapsed": false,
    "pycharm": {
     "name": "#%%\n"
    }
   }
  },
  {
   "cell_type": "code",
   "execution_count": 40,
   "outputs": [
    {
     "name": "stdout",
     "output_type": "stream",
     "text": [
      "[3, 4, 10, 13]\n",
      "[7, 14]\n",
      "[8, 9]\n",
      "[15, 16, 17]\n",
      "[21, 28]\n",
      "[22, 33]\n",
      "[23, 108]\n",
      "[25, 116]\n",
      "[31, 34]\n",
      "[32, 98]\n",
      "[36, 37, 38, 41, 42, 43, 44, 92, 96, 99]\n",
      "[40, 45]\n",
      "[47, 48, 49]\n",
      "[55, 57, 58, 59, 72]\n",
      "[56, 121]\n",
      "[60, 61, 81]\n",
      "[69, 70]\n",
      "[74, 80, 124]\n",
      "[79, 82]\n",
      "[83, 84]\n",
      "[90, 94, 97]\n",
      "[100, 107]\n",
      "[101, 120, 126]\n",
      "[102, 103, 109, 111, 112, 113]\n",
      "[105, 139]\n",
      "[114, 115, 117, 118, 119, 122, 123, 125, 127]\n",
      "[128, 129, 130, 131, 133, 134, 135]\n",
      "[140, 141]\n"
     ]
    }
   ],
   "source": [
    "event_common_keyword_mapping = []\n",
    "common_id = []\n",
    "id_to_keywords = {}\n",
    "for index, each in enumerate(new_dict):\n",
    "    ckw = f\"C{index+1}\"\n",
    "    id_to_keywords[ckw] = [\" \".join(list(keyword_events[each]))]\n",
    "    print(keyword_event_id[each])\n",
    "    for e in keyword_event_id[each]:\n",
    "        event_common_keyword_mapping.append(e)\n",
    "        common_id.append(ckw)\n"
   ],
   "metadata": {
    "collapsed": false,
    "pycharm": {
     "name": "#%%\n"
    }
   }
  },
  {
   "cell_type": "code",
   "execution_count": 41,
   "outputs": [
    {
     "name": "stdout",
     "output_type": "stream",
     "text": [
      "{'C1': ['stage olubowale irap akintimehin police born bio'], 'C2': ['irap million akintimehin today folarin bio officer'], 'C3': ['home akintimehin stopdvbypolice repercution wife downtown'], 'C4': ['high back state city playing football found'], 'C5': ['detroit travelin album live rock'], 'C6': ['jealousy home boyfriend rivalry newsom sister authorities monday year-old sibling'], 'C7': ['week july october brother price'], 'C8': ['city today visit time fbi'], 'C9': ['band classic usa rock finally'], 'C10': ['award autumn back hair shakespeare paltrow gwyneth birth rat'], 'C11': ['appointment entry international released flight game'], 'C12': ['appointment entry global mesa score'], 'C13': ['cfp decolonization survivor time discontents'], 'C14': ['month tour show mexico july'], 'C15': ['fuck show visit year company'], 'C16': ['quarter including october year told'], 'C17': ['state abortions year performed number'], 'C18': ['popular governor day visit october'], 'C19': ['annual industry tickets summit antonio company'], 'C20': ['department cakeshop justice springs court day lgbtq civil'], 'C21': ['appointment tuesday international port october'], 'C22': ['babcock benefits ian families holidays'], 'C23': ['governor queen attacks year world'], 'C24': ['scoop history contact estate discuss'], 'C25': ['week sec buyer penn florida lsu'], 'C26': ['area including city tourists attacks place october time kazakhstan year chinese spend pandemic service world millions'], 'C27': ['affordable development largest veterans housing time'], 'C28': ['jarrett sheriff employees county proctor camden office']}\n",
      "3 C1\n",
      "4 C1\n",
      "10 C1\n",
      "13 C1\n",
      "7 C2\n",
      "14 C2\n",
      "8 C3\n",
      "9 C3\n",
      "15 C4\n",
      "16 C4\n",
      "17 C4\n",
      "21 C5\n",
      "28 C5\n",
      "22 C6\n",
      "33 C6\n",
      "23 C7\n",
      "108 C7\n",
      "25 C8\n",
      "116 C8\n",
      "31 C9\n",
      "34 C9\n",
      "32 C10\n",
      "98 C10\n",
      "36 C11\n",
      "37 C11\n",
      "38 C11\n",
      "41 C11\n",
      "42 C11\n",
      "43 C11\n",
      "44 C11\n",
      "92 C11\n",
      "96 C11\n",
      "99 C11\n",
      "40 C12\n",
      "45 C12\n",
      "47 C13\n",
      "48 C13\n",
      "49 C13\n",
      "55 C14\n",
      "57 C14\n",
      "58 C14\n",
      "59 C14\n",
      "72 C14\n",
      "56 C15\n",
      "121 C15\n",
      "60 C16\n",
      "61 C16\n",
      "81 C16\n",
      "69 C17\n",
      "70 C17\n",
      "74 C18\n",
      "80 C18\n",
      "124 C18\n",
      "79 C19\n",
      "82 C19\n",
      "83 C20\n",
      "84 C20\n",
      "90 C21\n",
      "94 C21\n",
      "97 C21\n",
      "100 C22\n",
      "107 C22\n",
      "101 C23\n",
      "120 C23\n",
      "126 C23\n",
      "102 C24\n",
      "103 C24\n",
      "109 C24\n",
      "111 C24\n",
      "112 C24\n",
      "113 C24\n",
      "105 C25\n",
      "139 C25\n",
      "114 C26\n",
      "115 C26\n",
      "117 C26\n",
      "118 C26\n",
      "119 C26\n",
      "122 C26\n",
      "123 C26\n",
      "125 C26\n",
      "127 C26\n",
      "128 C27\n",
      "129 C27\n",
      "130 C27\n",
      "131 C27\n",
      "133 C27\n",
      "134 C27\n",
      "135 C27\n",
      "140 C28\n",
      "141 C28\n"
     ]
    }
   ],
   "source": [
    "print(id_to_keywords)\n",
    "for a,b in zip(event_common_keyword_mapping, common_id):\n",
    "    print(a,b)"
   ],
   "metadata": {
    "collapsed": false,
    "pycharm": {
     "name": "#%%\n"
    }
   }
  },
  {
   "cell_type": "code",
   "execution_count": 53,
   "outputs": [
    {
     "data": {
      "text/plain": "    event_id Common_keywors_id\n0          3                C1\n1          4                C1\n2         10                C1\n3         13                C1\n4          7                C2\n..       ...               ...\n86       133               C27\n87       134               C27\n88       135               C27\n89       140               C28\n90       141               C28\n\n[91 rows x 2 columns]",
      "text/html": "<div>\n<style scoped>\n    .dataframe tbody tr th:only-of-type {\n        vertical-align: middle;\n    }\n\n    .dataframe tbody tr th {\n        vertical-align: top;\n    }\n\n    .dataframe thead th {\n        text-align: right;\n    }\n</style>\n<table border=\"1\" class=\"dataframe\">\n  <thead>\n    <tr style=\"text-align: right;\">\n      <th></th>\n      <th>event_id</th>\n      <th>Common_keywors_id</th>\n    </tr>\n  </thead>\n  <tbody>\n    <tr>\n      <th>0</th>\n      <td>3</td>\n      <td>C1</td>\n    </tr>\n    <tr>\n      <th>1</th>\n      <td>4</td>\n      <td>C1</td>\n    </tr>\n    <tr>\n      <th>2</th>\n      <td>10</td>\n      <td>C1</td>\n    </tr>\n    <tr>\n      <th>3</th>\n      <td>13</td>\n      <td>C1</td>\n    </tr>\n    <tr>\n      <th>4</th>\n      <td>7</td>\n      <td>C2</td>\n    </tr>\n    <tr>\n      <th>...</th>\n      <td>...</td>\n      <td>...</td>\n    </tr>\n    <tr>\n      <th>86</th>\n      <td>133</td>\n      <td>C27</td>\n    </tr>\n    <tr>\n      <th>87</th>\n      <td>134</td>\n      <td>C27</td>\n    </tr>\n    <tr>\n      <th>88</th>\n      <td>135</td>\n      <td>C27</td>\n    </tr>\n    <tr>\n      <th>89</th>\n      <td>140</td>\n      <td>C28</td>\n    </tr>\n    <tr>\n      <th>90</th>\n      <td>141</td>\n      <td>C28</td>\n    </tr>\n  </tbody>\n</table>\n<p>91 rows × 2 columns</p>\n</div>"
     },
     "execution_count": 53,
     "metadata": {},
     "output_type": "execute_result"
    }
   ],
   "source": [
    "final_new_df = pd.DataFrame()\n",
    "final_new_df[\"event_id\"] = event_common_keyword_mapping\n",
    "final_new_df[\"Common_keywors_id\"] = common_id\n",
    "final_new_df"
   ],
   "metadata": {
    "collapsed": false,
    "pycharm": {
     "name": "#%%\n"
    }
   }
  },
  {
   "cell_type": "code",
   "execution_count": 50,
   "outputs": [
    {
     "data": {
      "text/plain": "     Unnamed: 0  event_id    location        date  tweets_count  \\\n0             0         1  Washington  09-13-2022            13   \n1             1         2  Washington  09-16-2022            13   \n2             2         3  Washington  09-03-2022             8   \n3             3         4  Washington  09-09-2022            14   \n4             4         5  Washington  09-10-2022            27   \n..          ...       ...         ...         ...           ...   \n139         139       140     Georgia  09-10-2022            12   \n140         140       141     Georgia  09-06-2022            13   \n141         141       142     Georgia  09-13-2022             5   \n142         142       143     Georgia  09-16-2022            14   \n143         143       144     Georgia  09-15-2022             9   \n\n                                              keywords event_sentiment  \\\n0    [('allies', 0.0370141109748817), ('trafalgar',...        Positive   \n1    [('corsi', 0.04162912505109767), ('interview',...        Negative   \n2    [('director', 0.10912854635271647), ('curiousl...        Positive   \n3    [('maryland', 0.02620209941119737), ('boulevar...        Negative   \n4    [('george', 0.04167087239681818), ('school', 0...        Positive   \n..                                                 ...             ...   \n139  [('county', 0.021428847152118378), ('camden', ...        Negative   \n140  [('county', 0.032262332786760446), ('sheriff',...        Negative   \n141  [('israeli', 0.06771232806350562), ('businessm...        Positive   \n142  [('mark', 0.06777092907666397), ('sabbath', 0....        Negative   \n143  [('year', 0.08956740615015714), ('county', 0.1...        Positive   \n\n    classification  \n0       historical  \n1       historical  \n2            sport  \n3            sport  \n4         business  \n..             ...  \n139          sport  \n140          sport  \n141     historical  \n142     historical  \n143     historical  \n\n[144 rows x 8 columns]",
      "text/html": "<div>\n<style scoped>\n    .dataframe tbody tr th:only-of-type {\n        vertical-align: middle;\n    }\n\n    .dataframe tbody tr th {\n        vertical-align: top;\n    }\n\n    .dataframe thead th {\n        text-align: right;\n    }\n</style>\n<table border=\"1\" class=\"dataframe\">\n  <thead>\n    <tr style=\"text-align: right;\">\n      <th></th>\n      <th>Unnamed: 0</th>\n      <th>event_id</th>\n      <th>location</th>\n      <th>date</th>\n      <th>tweets_count</th>\n      <th>keywords</th>\n      <th>event_sentiment</th>\n      <th>classification</th>\n    </tr>\n  </thead>\n  <tbody>\n    <tr>\n      <th>0</th>\n      <td>0</td>\n      <td>1</td>\n      <td>Washington</td>\n      <td>09-13-2022</td>\n      <td>13</td>\n      <td>[('allies', 0.0370141109748817), ('trafalgar',...</td>\n      <td>Positive</td>\n      <td>historical</td>\n    </tr>\n    <tr>\n      <th>1</th>\n      <td>1</td>\n      <td>2</td>\n      <td>Washington</td>\n      <td>09-16-2022</td>\n      <td>13</td>\n      <td>[('corsi', 0.04162912505109767), ('interview',...</td>\n      <td>Negative</td>\n      <td>historical</td>\n    </tr>\n    <tr>\n      <th>2</th>\n      <td>2</td>\n      <td>3</td>\n      <td>Washington</td>\n      <td>09-03-2022</td>\n      <td>8</td>\n      <td>[('director', 0.10912854635271647), ('curiousl...</td>\n      <td>Positive</td>\n      <td>sport</td>\n    </tr>\n    <tr>\n      <th>3</th>\n      <td>3</td>\n      <td>4</td>\n      <td>Washington</td>\n      <td>09-09-2022</td>\n      <td>14</td>\n      <td>[('maryland', 0.02620209941119737), ('boulevar...</td>\n      <td>Negative</td>\n      <td>sport</td>\n    </tr>\n    <tr>\n      <th>4</th>\n      <td>4</td>\n      <td>5</td>\n      <td>Washington</td>\n      <td>09-10-2022</td>\n      <td>27</td>\n      <td>[('george', 0.04167087239681818), ('school', 0...</td>\n      <td>Positive</td>\n      <td>business</td>\n    </tr>\n    <tr>\n      <th>...</th>\n      <td>...</td>\n      <td>...</td>\n      <td>...</td>\n      <td>...</td>\n      <td>...</td>\n      <td>...</td>\n      <td>...</td>\n      <td>...</td>\n    </tr>\n    <tr>\n      <th>139</th>\n      <td>139</td>\n      <td>140</td>\n      <td>Georgia</td>\n      <td>09-10-2022</td>\n      <td>12</td>\n      <td>[('county', 0.021428847152118378), ('camden', ...</td>\n      <td>Negative</td>\n      <td>sport</td>\n    </tr>\n    <tr>\n      <th>140</th>\n      <td>140</td>\n      <td>141</td>\n      <td>Georgia</td>\n      <td>09-06-2022</td>\n      <td>13</td>\n      <td>[('county', 0.032262332786760446), ('sheriff',...</td>\n      <td>Negative</td>\n      <td>sport</td>\n    </tr>\n    <tr>\n      <th>141</th>\n      <td>141</td>\n      <td>142</td>\n      <td>Georgia</td>\n      <td>09-13-2022</td>\n      <td>5</td>\n      <td>[('israeli', 0.06771232806350562), ('businessm...</td>\n      <td>Positive</td>\n      <td>historical</td>\n    </tr>\n    <tr>\n      <th>142</th>\n      <td>142</td>\n      <td>143</td>\n      <td>Georgia</td>\n      <td>09-16-2022</td>\n      <td>14</td>\n      <td>[('mark', 0.06777092907666397), ('sabbath', 0....</td>\n      <td>Negative</td>\n      <td>historical</td>\n    </tr>\n    <tr>\n      <th>143</th>\n      <td>143</td>\n      <td>144</td>\n      <td>Georgia</td>\n      <td>09-15-2022</td>\n      <td>9</td>\n      <td>[('year', 0.08956740615015714), ('county', 0.1...</td>\n      <td>Positive</td>\n      <td>historical</td>\n    </tr>\n  </tbody>\n</table>\n<p>144 rows × 8 columns</p>\n</div>"
     },
     "execution_count": 50,
     "metadata": {},
     "output_type": "execute_result"
    }
   ],
   "source": [
    "org_data = pd.read_csv(\"final_dataset_v1.csv\")\n",
    "org_data"
   ],
   "metadata": {
    "collapsed": false,
    "pycharm": {
     "name": "#%%\n"
    }
   }
  },
  {
   "cell_type": "code",
   "execution_count": 54,
   "outputs": [],
   "source": [
    "final_df = pd.merge(org_data, final_new_df, on=\"event_id\", how=\"left\")"
   ],
   "metadata": {
    "collapsed": false,
    "pycharm": {
     "name": "#%%\n"
    }
   }
  },
  {
   "cell_type": "code",
   "execution_count": 56,
   "outputs": [],
   "source": [
    "final_df.to_csv(\"final_dataset_v1.csv\", index=False)"
   ],
   "metadata": {
    "collapsed": false,
    "pycharm": {
     "name": "#%%\n"
    }
   }
  },
  {
   "cell_type": "code",
   "execution_count": 59,
   "outputs": [
    {
     "data": {
      "text/plain": "['C1',\n 'C2',\n 'C3',\n 'C4',\n 'C5',\n 'C6',\n 'C7',\n 'C8',\n 'C9',\n 'C10',\n 'C11',\n 'C12',\n 'C13',\n 'C14',\n 'C15',\n 'C16',\n 'C17',\n 'C18',\n 'C19',\n 'C20',\n 'C21',\n 'C22',\n 'C23',\n 'C24',\n 'C25',\n 'C26',\n 'C27',\n 'C28']"
     },
     "execution_count": 59,
     "metadata": {},
     "output_type": "execute_result"
    }
   ],
   "source": [
    "list(id_to_keywords.keys())"
   ],
   "metadata": {
    "collapsed": false,
    "pycharm": {
     "name": "#%%\n"
    }
   }
  },
  {
   "cell_type": "code",
   "execution_count": 61,
   "outputs": [],
   "source": [
    "id_to_keywords\n",
    "common_key_df = pd.DataFrame()\n",
    "common_key_df[\"common_keywords_id\"] = list(id_to_keywords.keys())\n",
    "common_key_df[\"common_keywords\"] = list(id_to_keywords.values())"
   ],
   "metadata": {
    "collapsed": false,
    "pycharm": {
     "name": "#%%\n"
    }
   }
  },
  {
   "cell_type": "code",
   "execution_count": 63,
   "outputs": [],
   "source": [
    "common_key_df.to_csv(\"common_keyword_events.csv\")"
   ],
   "metadata": {
    "collapsed": false,
    "pycharm": {
     "name": "#%%\n"
    }
   }
  },
  {
   "cell_type": "code",
   "execution_count": null,
   "outputs": [],
   "source": [],
   "metadata": {
    "collapsed": false,
    "pycharm": {
     "name": "#%%\n"
    }
   }
  }
 ],
 "metadata": {
  "kernelspec": {
   "display_name": "Python 3",
   "language": "python",
   "name": "python3"
  },
  "language_info": {
   "codemirror_mode": {
    "name": "ipython",
    "version": 2
   },
   "file_extension": ".py",
   "mimetype": "text/x-python",
   "name": "python",
   "nbconvert_exporter": "python",
   "pygments_lexer": "ipython2",
   "version": "2.7.6"
  }
 },
 "nbformat": 4,
 "nbformat_minor": 0
}